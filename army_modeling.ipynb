{
 "cells": [
  {
   "cell_type": "markdown",
   "metadata": {},
   "source": [
    "# 카카오-구름 AI 프로젝트\n",
    "## 모델링(Modelling) - Colab ver."
   ]
  },
  {
   "cell_type": "code",
   "execution_count": 1,
   "metadata": {
    "tags": []
   },
   "outputs": [
    {
     "data": {
      "text/plain": [
       "<contextlib.ExitStack at 0x1caf1728f10>"
      ]
     },
     "execution_count": 1,
     "metadata": {},
     "output_type": "execute_result"
    }
   ],
   "source": [
    "# 활용 library\n",
    "from __future__ import print_function, division\n",
    "from tqdm import tqdm\n",
    "\n",
    "import torch\n",
    "import torchvision\n",
    "import torch.nn as nn\n",
    "import torch.optim as optim\n",
    "from torch.optim import lr_scheduler\n",
    "import torch.backends.cudnn as cudnn\n",
    "from torchvision.io import read_image\n",
    "from torchvision.datasets import ImageFolder\n",
    "from torch.utils.data import DataLoader, random_split\n",
    "from torchvision import datasets, models, transforms\n",
    "import numpy as np\n",
    "import matplotlib.pyplot as plt\n",
    "import time\n",
    "import os\n",
    "import copy\n",
    "\n",
    "cudnn.benchmark = True\n",
    "plt.ion()   # 대화형 모드"
   ]
  },
  {
   "cell_type": "code",
   "execution_count": 2,
   "metadata": {
    "tags": []
   },
   "outputs": [
    {
     "data": {
      "text/plain": [
       "device(type='cuda')"
      ]
     },
     "execution_count": 2,
     "metadata": {},
     "output_type": "execute_result"
    }
   ],
   "source": [
    "# GPU 사용\n",
    "device = torch.device(\"cuda\" if torch.cuda.is_available() else \"cpu\")\n",
    "device"
   ]
  },
  {
   "cell_type": "code",
   "execution_count": 3,
   "metadata": {
    "tags": []
   },
   "outputs": [],
   "source": [
    "# (1) Data preprocession and augmentation\n",
    "\n",
    "#이미지 크기\n",
    "img_size = 224\n",
    "\n",
    "#데이터 증강 파라미터\n",
    "random_crop_scale = (0.7, 1.0)\n",
    "random_flip_prob = 0.5\n",
    "random_rotation_degrees = (-30, 30)\n",
    "\n",
    "#데이터 split 비율\n",
    "train_ratio = 0.7\n",
    "val_ratio = 0.2\n",
    "test_ratio = 1 - train_ratio - val_ratio\n",
    "\n",
    "#배치 크기\n",
    "train_batch_size = 16\n",
    "val_batch_size = 4\n",
    "test_batch_size = 4\n",
    "\n",
    "#데이터 증강 및 전처리\n",
    "uxo_transform = transforms.Compose([\n",
    "    transforms.RandomResizedCrop((img_size, img_size), scale=random_crop_scale),\n",
    "    transforms.RandomHorizontalFlip(p=random_flip_prob),\n",
    "    transforms.RandomRotation(degrees=random_rotation_degrees),\n",
    "    transforms.ToTensor(),  # 텐서로 변환\n",
    "    transforms.Normalize([0.485, 0.456, 0.406], [0.229, 0.224, 0.225]) # Normalize, ImageNet에서 계산된 값\n",
    "])\n",
    "\n",
    "#이미지 로드, 폴더명을 클래스로\n",
    "path = \"D:/Working_Directory/project_0912/data\"\n",
    "dataset = ImageFolder(path, transform=uxo_transform)"
   ]
  },
  {
   "cell_type": "code",
   "execution_count": 4,
   "metadata": {
    "tags": []
   },
   "outputs": [
    {
     "name": "stdout",
     "output_type": "stream",
     "text": [
      "Training Data Size : 9937\n",
      "Validation Data Size : 2839\n",
      "Testing Data Size : 1421\n"
     ]
    }
   ],
   "source": [
    "# Data Split\n",
    "dataset_size = len(dataset)\n",
    "\n",
    "train_size = int(dataset_size * train_ratio)\n",
    "val_size = int(dataset_size * val_ratio)\n",
    "test_size = dataset_size - train_size - val_size\n",
    "train_dataset, val_dataset, test_dataset = random_split(dataset, [train_size, val_size, test_size])\n",
    "\n",
    "print(f\"Training Data Size : {len(train_dataset)}\")\n",
    "print(f\"Validation Data Size : {len(val_dataset)}\")\n",
    "print(f\"Testing Data Size : {len(test_dataset)}\")\n",
    "\n",
    "#DataLoader 생성\n",
    "train_dataloader = DataLoader(train_dataset, batch_size=train_batch_size, shuffle=True, drop_last=True)\n",
    "val_dataloader = DataLoader(val_dataset, batch_size=val_batch_size, shuffle=True, drop_last=True)\n",
    "test_dataloader = DataLoader(test_dataset, batch_size=test_batch_size, shuffle=True, drop_last=True)\n",
    "\n",
    "class_names = dataset.classes"
   ]
  },
  {
   "cell_type": "markdown",
   "metadata": {},
   "source": [
    "## ResNet-18"
   ]
  },
  {
   "cell_type": "code",
   "execution_count": 6,
   "metadata": {
    "tags": []
   },
   "outputs": [
    {
     "name": "stderr",
     "output_type": "stream",
     "text": [
      "C:\\Users\\Minwoo\\anaconda3\\envs\\myenv\\lib\\site-packages\\torchvision\\models\\_utils.py:223: UserWarning: Arguments other than a weight enum or `None` for 'weights' are deprecated since 0.13 and may be removed in the future. The current behavior is equivalent to passing `weights=ResNet18_Weights.IMAGENET1K_V1`. You can also use `weights=ResNet18_Weights.DEFAULT` to get the most up-to-date weights.\n",
      "  warnings.warn(msg)\n"
     ]
    },
    {
     "name": "stdout",
     "output_type": "stream",
     "text": [
      "Epoch 0/49\n",
      "------------------------------\n"
     ]
    },
    {
     "name": "stderr",
     "output_type": "stream",
     "text": [
      "Epoch [1/50] - Train: 100%|██████████████████████████████████████████████| 621/621 [05:31<00:00,  1.87it/s, acc=0.747, loss=0.523]\n"
     ]
    },
    {
     "name": "stdout",
     "output_type": "stream",
     "text": [
      "Epoch [1/50] - Train Loss: 0.5230 - Train Accuracy: 0.7473\n",
      "Epoch [1/50] - Val Loss: 0.4749 - Val Accuracy: 0.7348\n",
      "==============================\n",
      "Epoch 1/49\n",
      "------------------------------\n"
     ]
    },
    {
     "name": "stderr",
     "output_type": "stream",
     "text": [
      "Epoch [2/50] - Train: 100%|███████████████████████████████████████████████| 621/621 [05:16<00:00,  1.96it/s, acc=0.79, loss=0.441]\n"
     ]
    },
    {
     "name": "stdout",
     "output_type": "stream",
     "text": [
      "Epoch [2/50] - Train Loss: 0.4411 - Train Accuracy: 0.7901\n",
      "Epoch [2/50] - Val Loss: 0.4420 - Val Accuracy: 0.7782\n",
      "==============================\n",
      "Epoch 2/49\n",
      "------------------------------\n"
     ]
    },
    {
     "name": "stderr",
     "output_type": "stream",
     "text": [
      "Epoch [3/50] - Train: 100%|██████████████████████████████████████████████| 621/621 [05:16<00:00,  1.96it/s, acc=0.799, loss=0.425]\n"
     ]
    },
    {
     "name": "stdout",
     "output_type": "stream",
     "text": [
      "Epoch [3/50] - Train Loss: 0.4252 - Train Accuracy: 0.7991\n",
      "Epoch [3/50] - Val Loss: 0.5058 - Val Accuracy: 0.7786\n",
      "==============================\n",
      "Epoch 3/49\n",
      "------------------------------\n"
     ]
    },
    {
     "name": "stderr",
     "output_type": "stream",
     "text": [
      "Epoch [4/50] - Train: 100%|██████████████████████████████████████████████| 621/621 [05:12<00:00,  1.99it/s, acc=0.821, loss=0.396]\n"
     ]
    },
    {
     "name": "stdout",
     "output_type": "stream",
     "text": [
      "Epoch [4/50] - Train Loss: 0.3957 - Train Accuracy: 0.8207\n",
      "Epoch [4/50] - Val Loss: 0.3924 - Val Accuracy: 0.8290\n",
      "==============================\n",
      "Epoch 4/49\n",
      "------------------------------\n"
     ]
    },
    {
     "name": "stderr",
     "output_type": "stream",
     "text": [
      "Epoch [5/50] - Train: 100%|██████████████████████████████████████████████| 621/621 [05:11<00:00,  1.99it/s, acc=0.826, loss=0.385]\n"
     ]
    },
    {
     "name": "stdout",
     "output_type": "stream",
     "text": [
      "Epoch [5/50] - Train Loss: 0.3848 - Train Accuracy: 0.8264\n",
      "Epoch [5/50] - Val Loss: 0.4854 - Val Accuracy: 0.8032\n",
      "==============================\n",
      "Epoch 5/49\n",
      "------------------------------\n"
     ]
    },
    {
     "name": "stderr",
     "output_type": "stream",
     "text": [
      "Epoch [6/50] - Train: 100%|██████████████████████████████████████████████| 621/621 [05:11<00:00,  1.99it/s, acc=0.832, loss=0.368]\n"
     ]
    },
    {
     "name": "stdout",
     "output_type": "stream",
     "text": [
      "Epoch [6/50] - Train Loss: 0.3681 - Train Accuracy: 0.8319\n",
      "Epoch [6/50] - Val Loss: 0.3500 - Val Accuracy: 0.8441\n",
      "==============================\n",
      "Epoch 6/49\n",
      "------------------------------\n"
     ]
    },
    {
     "name": "stderr",
     "output_type": "stream",
     "text": [
      "Epoch [7/50] - Train: 100%|██████████████████████████████████████████████| 621/621 [05:14<00:00,  1.97it/s, acc=0.844, loss=0.354]\n"
     ]
    },
    {
     "name": "stdout",
     "output_type": "stream",
     "text": [
      "Epoch [7/50] - Train Loss: 0.3539 - Train Accuracy: 0.8440\n",
      "Epoch [7/50] - Val Loss: 0.3653 - Val Accuracy: 0.8276\n",
      "==============================\n",
      "Epoch 7/49\n",
      "------------------------------\n"
     ]
    },
    {
     "name": "stderr",
     "output_type": "stream",
     "text": [
      "Epoch [8/50] - Train: 100%|██████████████████████████████████████████████| 621/621 [05:14<00:00,  1.97it/s, acc=0.848, loss=0.349]\n"
     ]
    },
    {
     "name": "stdout",
     "output_type": "stream",
     "text": [
      "Epoch [8/50] - Train Loss: 0.3487 - Train Accuracy: 0.8475\n",
      "Epoch [8/50] - Val Loss: 0.4246 - Val Accuracy: 0.7920\n",
      "==============================\n",
      "Epoch 8/49\n",
      "------------------------------\n"
     ]
    },
    {
     "name": "stderr",
     "output_type": "stream",
     "text": [
      "Epoch [9/50] - Train: 100%|██████████████████████████████████████████████| 621/621 [05:13<00:00,  1.98it/s, acc=0.852, loss=0.337]\n"
     ]
    },
    {
     "name": "stdout",
     "output_type": "stream",
     "text": [
      "Epoch [9/50] - Train Loss: 0.3372 - Train Accuracy: 0.8515\n",
      "Epoch [9/50] - Val Loss: 0.3287 - Val Accuracy: 0.8597\n",
      "==============================\n",
      "Epoch 9/49\n",
      "------------------------------\n"
     ]
    },
    {
     "name": "stderr",
     "output_type": "stream",
     "text": [
      "Epoch [10/50] - Train: 100%|██████████████████████████████████████████████| 621/621 [05:15<00:00,  1.97it/s, acc=0.854, loss=0.33]\n"
     ]
    },
    {
     "name": "stdout",
     "output_type": "stream",
     "text": [
      "Epoch [10/50] - Train Loss: 0.3297 - Train Accuracy: 0.8538\n",
      "Epoch [10/50] - Val Loss: 0.3242 - Val Accuracy: 0.8575\n",
      "==============================\n",
      "Epoch 10/49\n",
      "------------------------------\n"
     ]
    },
    {
     "name": "stderr",
     "output_type": "stream",
     "text": [
      "Epoch [11/50] - Train: 100%|█████████████████████████████████████████████| 621/621 [05:18<00:00,  1.95it/s, acc=0.861, loss=0.322]\n"
     ]
    },
    {
     "name": "stdout",
     "output_type": "stream",
     "text": [
      "Epoch [11/50] - Train Loss: 0.3217 - Train Accuracy: 0.8608\n",
      "Epoch [11/50] - Val Loss: 0.3737 - Val Accuracy: 0.8353\n",
      "==============================\n",
      "Epoch 11/49\n",
      "------------------------------\n"
     ]
    },
    {
     "name": "stderr",
     "output_type": "stream",
     "text": [
      "Epoch [12/50] - Train: 100%|██████████████████████████████████████████████| 621/621 [05:14<00:00,  1.98it/s, acc=0.86, loss=0.319]\n"
     ]
    },
    {
     "name": "stdout",
     "output_type": "stream",
     "text": [
      "Epoch [12/50] - Train Loss: 0.3190 - Train Accuracy: 0.8601\n",
      "Epoch [12/50] - Val Loss: 0.3394 - Val Accuracy: 0.8523\n",
      "==============================\n",
      "Epoch 12/49\n",
      "------------------------------\n"
     ]
    },
    {
     "name": "stderr",
     "output_type": "stream",
     "text": [
      "Epoch [13/50] - Train: 100%|█████████████████████████████████████████████| 621/621 [05:14<00:00,  1.98it/s, acc=0.868, loss=0.299]\n"
     ]
    },
    {
     "name": "stdout",
     "output_type": "stream",
     "text": [
      "Epoch [13/50] - Train Loss: 0.2995 - Train Accuracy: 0.8685\n",
      "Epoch [13/50] - Val Loss: 0.3110 - Val Accuracy: 0.8731\n",
      "==============================\n",
      "Epoch 13/49\n",
      "------------------------------\n"
     ]
    },
    {
     "name": "stderr",
     "output_type": "stream",
     "text": [
      "Epoch [14/50] - Train: 100%|███████████████████████████████████████████████| 621/621 [05:13<00:00,  1.98it/s, acc=0.872, loss=0.3]\n"
     ]
    },
    {
     "name": "stdout",
     "output_type": "stream",
     "text": [
      "Epoch [14/50] - Train Loss: 0.3002 - Train Accuracy: 0.8723\n",
      "Epoch [14/50] - Val Loss: 0.3137 - Val Accuracy: 0.8653\n",
      "==============================\n",
      "Epoch 14/49\n",
      "------------------------------\n"
     ]
    },
    {
     "name": "stderr",
     "output_type": "stream",
     "text": [
      "Epoch [15/50] - Train: 100%|█████████████████████████████████████████████| 621/621 [05:29<00:00,  1.89it/s, acc=0.874, loss=0.292]\n"
     ]
    },
    {
     "name": "stdout",
     "output_type": "stream",
     "text": [
      "Epoch [15/50] - Train Loss: 0.2922 - Train Accuracy: 0.8740\n",
      "Epoch [15/50] - Val Loss: 0.3819 - Val Accuracy: 0.8272\n",
      "==============================\n",
      "Epoch 15/49\n",
      "------------------------------\n"
     ]
    },
    {
     "name": "stderr",
     "output_type": "stream",
     "text": [
      "Epoch [16/50] - Train: 100%|█████████████████████████████████████████████| 621/621 [05:11<00:00,  2.00it/s, acc=0.876, loss=0.284]\n"
     ]
    },
    {
     "name": "stdout",
     "output_type": "stream",
     "text": [
      "Epoch [16/50] - Train Loss: 0.2842 - Train Accuracy: 0.8758\n",
      "Epoch [16/50] - Val Loss: 0.3058 - Val Accuracy: 0.8706\n",
      "==============================\n",
      "Epoch 16/49\n",
      "------------------------------\n"
     ]
    },
    {
     "name": "stderr",
     "output_type": "stream",
     "text": [
      "Epoch [17/50] - Train: 100%|█████████████████████████████████████████████| 621/621 [05:11<00:00,  1.99it/s, acc=0.875, loss=0.292]\n"
     ]
    },
    {
     "name": "stdout",
     "output_type": "stream",
     "text": [
      "Epoch [17/50] - Train Loss: 0.2916 - Train Accuracy: 0.8752\n",
      "Epoch [17/50] - Val Loss: 0.3317 - Val Accuracy: 0.8635\n",
      "==============================\n",
      "Epoch 17/49\n",
      "------------------------------\n"
     ]
    },
    {
     "name": "stderr",
     "output_type": "stream",
     "text": [
      "Epoch [18/50] - Train: 100%|█████████████████████████████████████████████| 621/621 [05:15<00:00,  1.97it/s, acc=0.889, loss=0.267]\n"
     ]
    },
    {
     "name": "stdout",
     "output_type": "stream",
     "text": [
      "Epoch [18/50] - Train Loss: 0.2667 - Train Accuracy: 0.8893\n",
      "Epoch [18/50] - Val Loss: 0.3184 - Val Accuracy: 0.8657\n",
      "==============================\n",
      "Epoch 18/49\n",
      "------------------------------\n"
     ]
    },
    {
     "name": "stderr",
     "output_type": "stream",
     "text": [
      "Epoch [19/50] - Train: 100%|██████████████████████████████████████████████| 621/621 [05:13<00:00,  1.98it/s, acc=0.89, loss=0.262]\n"
     ]
    },
    {
     "name": "stdout",
     "output_type": "stream",
     "text": [
      "Epoch [19/50] - Train Loss: 0.2621 - Train Accuracy: 0.8897\n",
      "Epoch [19/50] - Val Loss: 0.3757 - Val Accuracy: 0.8364\n",
      "==============================\n",
      "Epoch 19/49\n",
      "------------------------------\n"
     ]
    },
    {
     "name": "stderr",
     "output_type": "stream",
     "text": [
      "Epoch [20/50] - Train: 100%|██████████████████████████████████████████████| 621/621 [05:13<00:00,  1.98it/s, acc=0.89, loss=0.262]\n"
     ]
    },
    {
     "name": "stdout",
     "output_type": "stream",
     "text": [
      "Epoch [20/50] - Train Loss: 0.2616 - Train Accuracy: 0.8897\n",
      "Epoch [20/50] - Val Loss: 0.2883 - Val Accuracy: 0.8801\n",
      "==============================\n",
      "Epoch 20/49\n",
      "------------------------------\n"
     ]
    },
    {
     "name": "stderr",
     "output_type": "stream",
     "text": [
      "Epoch [21/50] - Train: 100%|█████████████████████████████████████████████| 621/621 [05:16<00:00,  1.96it/s, acc=0.898, loss=0.247]\n"
     ]
    },
    {
     "name": "stdout",
     "output_type": "stream",
     "text": [
      "Epoch [21/50] - Train Loss: 0.2468 - Train Accuracy: 0.8976\n",
      "Epoch [21/50] - Val Loss: 0.2850 - Val Accuracy: 0.8769\n",
      "==============================\n",
      "Epoch 21/49\n",
      "------------------------------\n"
     ]
    },
    {
     "name": "stderr",
     "output_type": "stream",
     "text": [
      "Epoch [22/50] - Train: 100%|█████████████████████████████████████████████| 621/621 [05:12<00:00,  1.99it/s, acc=0.897, loss=0.247]\n"
     ]
    },
    {
     "name": "stdout",
     "output_type": "stream",
     "text": [
      "Epoch [22/50] - Train Loss: 0.2474 - Train Accuracy: 0.8965\n",
      "Epoch [22/50] - Val Loss: 0.3234 - Val Accuracy: 0.8628\n",
      "==============================\n",
      "Epoch 22/49\n",
      "------------------------------\n"
     ]
    },
    {
     "name": "stderr",
     "output_type": "stream",
     "text": [
      "Epoch [23/50] - Train: 100%|██████████████████████████████████████████████| 621/621 [05:17<00:00,  1.95it/s, acc=0.901, loss=0.24]\n"
     ]
    },
    {
     "name": "stdout",
     "output_type": "stream",
     "text": [
      "Epoch [23/50] - Train Loss: 0.2402 - Train Accuracy: 0.9010\n",
      "Epoch [23/50] - Val Loss: 0.3002 - Val Accuracy: 0.8579\n",
      "==============================\n",
      "Epoch 23/49\n",
      "------------------------------\n"
     ]
    },
    {
     "name": "stderr",
     "output_type": "stream",
     "text": [
      "Epoch [24/50] - Train: 100%|█████████████████████████████████████████████| 621/621 [05:13<00:00,  1.98it/s, acc=0.904, loss=0.233]\n"
     ]
    },
    {
     "name": "stdout",
     "output_type": "stream",
     "text": [
      "Epoch [24/50] - Train Loss: 0.2328 - Train Accuracy: 0.9038\n",
      "Epoch [24/50] - Val Loss: 0.2895 - Val Accuracy: 0.8798\n",
      "==============================\n",
      "Epoch 24/49\n",
      "------------------------------\n"
     ]
    },
    {
     "name": "stderr",
     "output_type": "stream",
     "text": [
      "Epoch [25/50] - Train: 100%|█████████████████████████████████████████████| 621/621 [05:15<00:00,  1.97it/s, acc=0.903, loss=0.229]\n"
     ]
    },
    {
     "name": "stdout",
     "output_type": "stream",
     "text": [
      "Epoch [25/50] - Train Loss: 0.2286 - Train Accuracy: 0.9034\n",
      "Epoch [25/50] - Val Loss: 0.2756 - Val Accuracy: 0.8875\n",
      "==============================\n",
      "Epoch 25/49\n",
      "------------------------------\n"
     ]
    },
    {
     "name": "stderr",
     "output_type": "stream",
     "text": [
      "Epoch [26/50] - Train: 100%|█████████████████████████████████████████████| 621/621 [05:10<00:00,  2.00it/s, acc=0.912, loss=0.219]\n"
     ]
    },
    {
     "name": "stdout",
     "output_type": "stream",
     "text": [
      "Epoch [26/50] - Train Loss: 0.2190 - Train Accuracy: 0.9120\n",
      "Epoch [26/50] - Val Loss: 0.2864 - Val Accuracy: 0.8794\n",
      "==============================\n",
      "Epoch 26/49\n",
      "------------------------------\n"
     ]
    },
    {
     "name": "stderr",
     "output_type": "stream",
     "text": [
      "Epoch [27/50] - Train: 100%|█████████████████████████████████████████████| 621/621 [05:12<00:00,  1.99it/s, acc=0.908, loss=0.218]\n"
     ]
    },
    {
     "name": "stdout",
     "output_type": "stream",
     "text": [
      "Epoch [27/50] - Train Loss: 0.2181 - Train Accuracy: 0.9076\n",
      "Epoch [27/50] - Val Loss: 0.3150 - Val Accuracy: 0.8794\n",
      "==============================\n",
      "Epoch 27/49\n",
      "------------------------------\n"
     ]
    },
    {
     "name": "stderr",
     "output_type": "stream",
     "text": [
      "Epoch [28/50] - Train: 100%|█████████████████████████████████████████████| 621/621 [05:12<00:00,  1.99it/s, acc=0.907, loss=0.229]\n"
     ]
    },
    {
     "name": "stdout",
     "output_type": "stream",
     "text": [
      "Epoch [28/50] - Train Loss: 0.2290 - Train Accuracy: 0.9066\n",
      "Epoch [28/50] - Val Loss: 0.2666 - Val Accuracy: 0.8967\n",
      "==============================\n",
      "Epoch 28/49\n",
      "------------------------------\n"
     ]
    },
    {
     "name": "stderr",
     "output_type": "stream",
     "text": [
      "Epoch [29/50] - Train: 100%|█████████████████████████████████████████████| 621/621 [05:14<00:00,  1.97it/s, acc=0.914, loss=0.208]\n"
     ]
    },
    {
     "name": "stdout",
     "output_type": "stream",
     "text": [
      "Epoch [29/50] - Train Loss: 0.2077 - Train Accuracy: 0.9140\n",
      "Epoch [29/50] - Val Loss: 0.3136 - Val Accuracy: 0.8748\n",
      "==============================\n",
      "Epoch 29/49\n",
      "------------------------------\n"
     ]
    },
    {
     "name": "stderr",
     "output_type": "stream",
     "text": [
      "Epoch [30/50] - Train: 100%|█████████████████████████████████████████████| 621/621 [05:11<00:00,  1.99it/s, acc=0.917, loss=0.202]\n"
     ]
    },
    {
     "name": "stdout",
     "output_type": "stream",
     "text": [
      "Epoch [30/50] - Train Loss: 0.2017 - Train Accuracy: 0.9172\n",
      "Epoch [30/50] - Val Loss: 0.2823 - Val Accuracy: 0.8854\n",
      "==============================\n",
      "Epoch 30/49\n",
      "------------------------------\n"
     ]
    },
    {
     "name": "stderr",
     "output_type": "stream",
     "text": [
      "Epoch [31/50] - Train: 100%|█████████████████████████████████████████████| 621/621 [05:10<00:00,  2.00it/s, acc=0.918, loss=0.199]\n"
     ]
    },
    {
     "name": "stdout",
     "output_type": "stream",
     "text": [
      "Epoch [31/50] - Train Loss: 0.1989 - Train Accuracy: 0.9182\n",
      "Epoch [31/50] - Val Loss: 0.3070 - Val Accuracy: 0.8843\n",
      "==============================\n",
      "Epoch 31/49\n",
      "------------------------------\n"
     ]
    },
    {
     "name": "stderr",
     "output_type": "stream",
     "text": [
      "Epoch [32/50] - Train: 100%|███████████████████████████████████████████████| 621/621 [05:10<00:00,  2.00it/s, acc=0.918, loss=0.2]\n"
     ]
    },
    {
     "name": "stdout",
     "output_type": "stream",
     "text": [
      "Epoch [32/50] - Train Loss: 0.1998 - Train Accuracy: 0.9185\n",
      "Epoch [32/50] - Val Loss: 0.3196 - Val Accuracy: 0.8762\n",
      "==============================\n",
      "Epoch 32/49\n",
      "------------------------------\n"
     ]
    },
    {
     "name": "stderr",
     "output_type": "stream",
     "text": [
      "Epoch [33/50] - Train: 100%|█████████████████████████████████████████████| 621/621 [05:12<00:00,  1.99it/s, acc=0.919, loss=0.198]\n"
     ]
    },
    {
     "name": "stdout",
     "output_type": "stream",
     "text": [
      "Epoch [33/50] - Train Loss: 0.1978 - Train Accuracy: 0.9188\n",
      "Epoch [33/50] - Val Loss: 0.2742 - Val Accuracy: 0.8963\n",
      "==============================\n",
      "Epoch 33/49\n",
      "------------------------------\n"
     ]
    },
    {
     "name": "stderr",
     "output_type": "stream",
     "text": [
      "Epoch [34/50] - Train: 100%|█████████████████████████████████████████████| 621/621 [05:10<00:00,  2.00it/s, acc=0.925, loss=0.182]\n"
     ]
    },
    {
     "name": "stdout",
     "output_type": "stream",
     "text": [
      "Epoch [34/50] - Train Loss: 0.1823 - Train Accuracy: 0.9253\n",
      "Epoch [34/50] - Val Loss: 0.2755 - Val Accuracy: 0.8900\n",
      "==============================\n",
      "Epoch 34/49\n",
      "------------------------------\n"
     ]
    },
    {
     "name": "stderr",
     "output_type": "stream",
     "text": [
      "Epoch [35/50] - Train: 100%|█████████████████████████████████████████████| 621/621 [05:11<00:00,  2.00it/s, acc=0.926, loss=0.186]\n"
     ]
    },
    {
     "name": "stdout",
     "output_type": "stream",
     "text": [
      "Epoch [35/50] - Train Loss: 0.1856 - Train Accuracy: 0.9260\n",
      "Epoch [35/50] - Val Loss: 0.3464 - Val Accuracy: 0.8681\n",
      "==============================\n",
      "Epoch 35/49\n",
      "------------------------------\n"
     ]
    },
    {
     "name": "stderr",
     "output_type": "stream",
     "text": [
      "Epoch [36/50] - Train: 100%|█████████████████████████████████████████████| 621/621 [05:12<00:00,  1.99it/s, acc=0.928, loss=0.181]\n"
     ]
    },
    {
     "name": "stdout",
     "output_type": "stream",
     "text": [
      "Epoch [36/50] - Train Loss: 0.1811 - Train Accuracy: 0.9277\n",
      "Epoch [36/50] - Val Loss: 0.3349 - Val Accuracy: 0.8724\n",
      "==============================\n",
      "Epoch 36/49\n",
      "------------------------------\n"
     ]
    },
    {
     "name": "stderr",
     "output_type": "stream",
     "text": [
      "Epoch [37/50] - Train: 100%|█████████████████████████████████████████████| 621/621 [05:12<00:00,  1.99it/s, acc=0.929, loss=0.172]\n"
     ]
    },
    {
     "name": "stdout",
     "output_type": "stream",
     "text": [
      "Epoch [37/50] - Train Loss: 0.1719 - Train Accuracy: 0.9288\n",
      "Epoch [37/50] - Val Loss: 0.3423 - Val Accuracy: 0.8727\n",
      "==============================\n",
      "Epoch 37/49\n",
      "------------------------------\n"
     ]
    },
    {
     "name": "stderr",
     "output_type": "stream",
     "text": [
      "Epoch [38/50] - Train: 100%|█████████████████████████████████████████████| 621/621 [05:14<00:00,  1.98it/s, acc=0.932, loss=0.175]\n"
     ]
    },
    {
     "name": "stdout",
     "output_type": "stream",
     "text": [
      "Epoch [38/50] - Train Loss: 0.1752 - Train Accuracy: 0.9324\n",
      "Epoch [38/50] - Val Loss: 0.2800 - Val Accuracy: 0.8882\n",
      "==============================\n",
      "Epoch 38/49\n",
      "------------------------------\n"
     ]
    },
    {
     "name": "stderr",
     "output_type": "stream",
     "text": [
      "Epoch [39/50] - Train: 100%|█████████████████████████████████████████████| 621/621 [05:11<00:00,  1.99it/s, acc=0.932, loss=0.161]\n"
     ]
    },
    {
     "name": "stdout",
     "output_type": "stream",
     "text": [
      "Epoch [39/50] - Train Loss: 0.1614 - Train Accuracy: 0.9322\n",
      "Epoch [39/50] - Val Loss: 0.3127 - Val Accuracy: 0.8769\n",
      "==============================\n",
      "Epoch 39/49\n",
      "------------------------------\n"
     ]
    },
    {
     "name": "stderr",
     "output_type": "stream",
     "text": [
      "Epoch [40/50] - Train: 100%|█████████████████████████████████████████████| 621/621 [05:12<00:00,  1.99it/s, acc=0.929, loss=0.176]\n"
     ]
    },
    {
     "name": "stdout",
     "output_type": "stream",
     "text": [
      "Epoch [40/50] - Train Loss: 0.1759 - Train Accuracy: 0.9294\n",
      "Epoch [40/50] - Val Loss: 0.2953 - Val Accuracy: 0.8829\n",
      "==============================\n",
      "Epoch 40/49\n",
      "------------------------------\n"
     ]
    },
    {
     "name": "stderr",
     "output_type": "stream",
     "text": [
      "Epoch [41/50] - Train: 100%|██████████████████████████████████████████████| 621/621 [05:14<00:00,  1.98it/s, acc=0.936, loss=0.16]\n"
     ]
    },
    {
     "name": "stdout",
     "output_type": "stream",
     "text": [
      "Epoch [41/50] - Train Loss: 0.1598 - Train Accuracy: 0.9362\n",
      "Epoch [41/50] - Val Loss: 0.2652 - Val Accuracy: 0.8992\n",
      "==============================\n",
      "Epoch 41/49\n",
      "------------------------------\n"
     ]
    },
    {
     "name": "stderr",
     "output_type": "stream",
     "text": [
      "Epoch [42/50] - Train: 100%|███████████████████████████████████████████████| 621/621 [05:14<00:00,  1.97it/s, acc=0.94, loss=0.15]\n"
     ]
    },
    {
     "name": "stdout",
     "output_type": "stream",
     "text": [
      "Epoch [42/50] - Train Loss: 0.1497 - Train Accuracy: 0.9403\n",
      "Epoch [42/50] - Val Loss: 0.3074 - Val Accuracy: 0.8868\n",
      "==============================\n",
      "Epoch 42/49\n",
      "------------------------------\n"
     ]
    },
    {
     "name": "stderr",
     "output_type": "stream",
     "text": [
      "Epoch [43/50] - Train: 100%|█████████████████████████████████████████████| 621/621 [05:15<00:00,  1.97it/s, acc=0.936, loss=0.155]\n"
     ]
    },
    {
     "name": "stdout",
     "output_type": "stream",
     "text": [
      "Epoch [43/50] - Train Loss: 0.1548 - Train Accuracy: 0.9364\n",
      "Epoch [43/50] - Val Loss: 0.2907 - Val Accuracy: 0.8875\n",
      "==============================\n",
      "Epoch 43/49\n",
      "------------------------------\n"
     ]
    },
    {
     "name": "stderr",
     "output_type": "stream",
     "text": [
      "Epoch [44/50] - Train: 100%|█████████████████████████████████████████████| 621/621 [05:13<00:00,  1.98it/s, acc=0.935, loss=0.162]\n"
     ]
    },
    {
     "name": "stdout",
     "output_type": "stream",
     "text": [
      "Epoch [44/50] - Train Loss: 0.1619 - Train Accuracy: 0.9354\n",
      "Epoch [44/50] - Val Loss: 0.2867 - Val Accuracy: 0.8921\n",
      "==============================\n",
      "Epoch 44/49\n",
      "------------------------------\n"
     ]
    },
    {
     "name": "stderr",
     "output_type": "stream",
     "text": [
      "Epoch [45/50] - Train: 100%|█████████████████████████████████████████████| 621/621 [05:10<00:00,  2.00it/s, acc=0.945, loss=0.141]\n"
     ]
    },
    {
     "name": "stdout",
     "output_type": "stream",
     "text": [
      "Epoch [45/50] - Train Loss: 0.1414 - Train Accuracy: 0.9448\n",
      "Epoch [45/50] - Val Loss: 0.3428 - Val Accuracy: 0.8755\n",
      "==============================\n",
      "Epoch 45/49\n",
      "------------------------------\n"
     ]
    },
    {
     "name": "stderr",
     "output_type": "stream",
     "text": [
      "Epoch [46/50] - Train: 100%|█████████████████████████████████████████████| 621/621 [05:13<00:00,  1.98it/s, acc=0.944, loss=0.138]\n"
     ]
    },
    {
     "name": "stdout",
     "output_type": "stream",
     "text": [
      "Epoch [46/50] - Train Loss: 0.1381 - Train Accuracy: 0.9441\n",
      "Epoch [46/50] - Val Loss: 0.3176 - Val Accuracy: 0.8769\n",
      "==============================\n",
      "Epoch 46/49\n",
      "------------------------------\n"
     ]
    },
    {
     "name": "stderr",
     "output_type": "stream",
     "text": [
      "Epoch [47/50] - Train: 100%|███████████████████████████████████████████████| 621/621 [05:11<00:00,  1.99it/s, acc=0.94, loss=0.15]\n"
     ]
    },
    {
     "name": "stdout",
     "output_type": "stream",
     "text": [
      "Epoch [47/50] - Train Loss: 0.1495 - Train Accuracy: 0.9402\n",
      "Epoch [47/50] - Val Loss: 0.3172 - Val Accuracy: 0.8865\n",
      "==============================\n",
      "Epoch 47/49\n",
      "------------------------------\n"
     ]
    },
    {
     "name": "stderr",
     "output_type": "stream",
     "text": [
      "Epoch [48/50] - Train: 100%|█████████████████████████████████████████████| 621/621 [05:12<00:00,  1.99it/s, acc=0.948, loss=0.137]\n"
     ]
    },
    {
     "name": "stdout",
     "output_type": "stream",
     "text": [
      "Epoch [48/50] - Train Loss: 0.1365 - Train Accuracy: 0.9480\n",
      "Epoch [48/50] - Val Loss: 0.4109 - Val Accuracy: 0.8695\n",
      "==============================\n",
      "Epoch 48/49\n",
      "------------------------------\n"
     ]
    },
    {
     "name": "stderr",
     "output_type": "stream",
     "text": [
      "Epoch [49/50] - Train: 100%|█████████████████████████████████████████████| 621/621 [05:12<00:00,  1.99it/s, acc=0.942, loss=0.153]\n"
     ]
    },
    {
     "name": "stdout",
     "output_type": "stream",
     "text": [
      "Epoch [49/50] - Train Loss: 0.1526 - Train Accuracy: 0.9421\n",
      "Epoch [49/50] - Val Loss: 0.3072 - Val Accuracy: 0.8917\n",
      "==============================\n",
      "Epoch 49/49\n",
      "------------------------------\n"
     ]
    },
    {
     "name": "stderr",
     "output_type": "stream",
     "text": [
      "Epoch [50/50] - Train: 100%|█████████████████████████████████████████████| 621/621 [05:11<00:00,  1.99it/s, acc=0.946, loss=0.132]\n"
     ]
    },
    {
     "name": "stdout",
     "output_type": "stream",
     "text": [
      "Epoch [50/50] - Train Loss: 0.1316 - Train Accuracy: 0.9463\n",
      "Epoch [50/50] - Val Loss: 0.3025 - Val Accuracy: 0.8875\n",
      "==============================\n"
     ]
    }
   ],
   "source": [
    "# (2) Modelling\n",
    "\n",
    "# 1. ResNet-18 모델 불러오기 (pre-trained 모델)\n",
    "model = torchvision.models.resnet18(pretrained=True)\n",
    "\n",
    "# 모델의 마지막 fully connected layer를 변경하여 클래스 수에 맞게 조정\n",
    "num_classes = len(class_names)  # 클래스 수에 맞게 설정\n",
    "model.fc = nn.Linear(model.fc.in_features, num_classes)\n",
    "\n",
    "# GPU를 사용할 수 있다면 GPU로 모델 이동\n",
    "device = torch.device(\"cuda\" if torch.cuda.is_available() else \"cpu\")\n",
    "model.to(device)\n",
    "\n",
    "# epochs, learning rate\n",
    "num_epochs = 50\n",
    "learning_rate = 0.001\n",
    "\n",
    "# 손실 함수와 옵티마이저 정의\n",
    "criterion = nn.CrossEntropyLoss()\n",
    "optimizer = optim.Adam(model.parameters(), lr=learning_rate)\n",
    "\n",
    "# loss, acc\n",
    "train_losses = [] ;val_losses = []\n",
    "train_accuracy = [] ;val_accuracy = []\n",
    "\n",
    "# 모델 학습\n",
    "for epoch in range(num_epochs):\n",
    "    print(f'Epoch {epoch}/{num_epochs - 1}')\n",
    "    print('-' * 30)\n",
    "\n",
    "    # 학습 모드로 설정\n",
    "    model.train()\n",
    "    running_train_loss = 0.0\n",
    "    correct_train = 0\n",
    "    total_train = 0\n",
    "    \n",
    "    # tqdm으로 래핑한 데이터 로더\n",
    "    train_dataloader = tqdm(train_dataloader, total=len(train_dataloader), desc=f'Epoch [{epoch+1}/{num_epochs}] - Train')\n",
    "\n",
    "    for inputs, labels in train_dataloader:\n",
    "        inputs, labels = inputs.to(device), labels.to(device)\n",
    "\n",
    "        optimizer.zero_grad()\n",
    "        outputs = model(inputs)\n",
    "        loss = criterion(outputs, labels)\n",
    "        loss.backward()\n",
    "        optimizer.step()\n",
    "\n",
    "        running_train_loss += loss.item()\n",
    "        _, predicted = torch.max(outputs.data, 1)\n",
    "        total_train += labels.size(0)\n",
    "        correct_train += (predicted == labels).sum().item()\n",
    "        \n",
    "        # tqdm 업데이트 (진행률 표시)\n",
    "        train_dataloader.set_postfix(loss=running_train_loss / (len(train_dataloader)), acc=correct_train / total_train)\n",
    "\n",
    "    epoch_train_loss = running_train_loss / len(train_dataloader)\n",
    "    train_accuracy.append(correct_train / total_train)\n",
    "    train_losses.append(epoch_train_loss)\n",
    "\n",
    "    # 평가 모드로 설정\n",
    "    model.eval()\n",
    "    running_val_loss = 0.0\n",
    "    correct_val = 0\n",
    "    total_val = 0\n",
    "\n",
    "    with torch.no_grad():\n",
    "        for inputs, labels in val_dataloader:\n",
    "            inputs, labels = inputs.to(device), labels.to(device)\n",
    "            outputs = model(inputs)\n",
    "            loss = criterion(outputs, labels)\n",
    "\n",
    "            running_val_loss += loss.item()\n",
    "            _, predicted = torch.max(outputs.data, 1)\n",
    "            total_val += labels.size(0)\n",
    "            correct_val += (predicted == labels).sum().item()\n",
    "\n",
    "    epoch_val_loss = running_val_loss / len(val_dataloader)\n",
    "    val_accuracy.append(correct_val / total_val)\n",
    "    val_losses.append(epoch_val_loss)\n",
    "\n",
    "    # 모델 체크포인트 저장 (필요한 경우)\n",
    "    checkpoint = {\n",
    "        'epoch': epoch + 1,\n",
    "        'model_state_dict': model.state_dict(),\n",
    "        'optimizer_state_dict': optimizer.state_dict(),\n",
    "        'train_losses': train_losses,\n",
    "        'val_losses': val_losses,\n",
    "        'train_accuracy': train_accuracy,\n",
    "        'val_accuracy': val_accuracy\n",
    "    }\n",
    "    checkpoint_path = \"D:/Working_Directory/project_0912/data/checkpoint.pth\"\n",
    "    torch.save(checkpoint, checkpoint_path)\n",
    "\n",
    "    print(f'Epoch [{epoch+1}/{num_epochs}] - Train Loss: {epoch_train_loss:.4f} - Train Accuracy: {train_accuracy[-1]:.4f}')\n",
    "    print(f'Epoch [{epoch+1}/{num_epochs}] - Val Loss: {epoch_val_loss:.4f} - Val Accuracy: {val_accuracy[-1]:.4f}')\n",
    "    print('=' * 30)"
   ]
  },
  {
   "cell_type": "code",
   "execution_count": 15,
   "metadata": {
    "tags": []
   },
   "outputs": [
    {
     "data": {
      "image/png": "[encoded data removed]",
      "text/plain": [
       "<Figure size 1200x400 with 2 Axes>"
      ]
     },
     "metadata": {},
     "output_type": "display_data"
    }
   ],
   "source": [
    "# Loss와 Accuracy 그래프 시각화\n",
    "plt.figure(figsize=(12, 4))\n",
    "plt.subplot(1, 2, 1)\n",
    "plt.plot(train_losses, label='Train Loss')\n",
    "plt.plot(val_losses, label='Validation Loss')\n",
    "plt.xlabel('Epoch')\n",
    "plt.ylabel('Loss')\n",
    "plt.legend()\n",
    "\n",
    "plt.subplot(1, 2, 2)\n",
    "plt.plot(train_accuracy, label='Train Accuracy')\n",
    "plt.plot(val_accuracy, label='Validation Accuracy')\n",
    "plt.xlabel('Epoch')\n",
    "plt.ylabel('Accuracy')\n",
    "plt.legend()\n",
    "\n",
    "# 전체 그림의 제목\n",
    "plt.suptitle(\"ResNet-18 : Final Test Accuracy: 0.8838\", fontsize=16)\n",
    "plt.savefig(\"D:/Working_Directory/project_0912/data/ResNet_18.png\")\n",
    "plt.show()"
   ]
  },
  {
   "cell_type": "code",
   "execution_count": 8,
   "metadata": {
    "tags": []
   },
   "outputs": [
    {
     "name": "stdout",
     "output_type": "stream",
     "text": [
      "Final Test Accuracy: 0.8838\n"
     ]
    }
   ],
   "source": [
    "# 테스트 데이터셋을 사용하여 모델 최종 성능 평가\n",
    "model.eval()\n",
    "correct = 0\n",
    "total = 0\n",
    "with torch.no_grad():\n",
    "    for inputs, labels in test_dataloader:\n",
    "        inputs, labels = inputs.to(device), labels.to(device)\n",
    "        outputs = model(inputs)\n",
    "        _, predicted = torch.max(outputs.data, 1)\n",
    "        total += labels.size(0)\n",
    "        correct += (predicted == labels).sum().item()\n",
    "\n",
    "test_accuracy = correct / total\n",
    "print(f'Final Test Accuracy: {test_accuracy:.4f}')"
   ]
  },
  {
   "cell_type": "code",
   "execution_count": 16,
   "metadata": {
    "tags": []
   },
   "outputs": [],
   "source": [
    "# ResNet-18 Model 저장\n",
    "torch.save(model.state_dict(), 'D:/Working_Directory/project_0912/model/resnet18_model.pth')"
   ]
  },
  {
   "cell_type": "markdown",
   "metadata": {},
   "source": [
    "## SqueezeNet\n"
   ]
  },
  {
   "cell_type": "code",
   "execution_count": 18,
   "metadata": {
    "tags": []
   },
   "outputs": [
    {
     "name": "stdout",
     "output_type": "stream",
     "text": [
      "Epoch 0/49\n",
      "------------------------------\n"
     ]
    },
    {
     "name": "stderr",
     "output_type": "stream",
     "text": [
      "Epoch [1/50] - Train: 100%|██████████████████████████████████████████████| 621/621 [05:30<00:00,  1.88it/s, acc=0.654, loss=0.586]\n"
     ]
    },
    {
     "name": "stdout",
     "output_type": "stream",
     "text": [
      "Epoch [1/50] - Train Loss: 0.5856 - Train Accuracy: 0.6542\n",
      "Epoch [1/50] - Val Loss: 0.6931 - Val Accuracy: 0.3822\n",
      "==============================\n",
      "Epoch 1/49\n",
      "------------------------------\n"
     ]
    },
    {
     "name": "stderr",
     "output_type": "stream",
     "text": [
      "Epoch [2/50] - Train: 100%|██████████████████████████████████████████████| 621/621 [05:20<00:00,  1.94it/s, acc=0.722, loss=0.525]\n"
     ]
    },
    {
     "name": "stdout",
     "output_type": "stream",
     "text": [
      "Epoch [2/50] - Train Loss: 0.5252 - Train Accuracy: 0.7219\n",
      "Epoch [2/50] - Val Loss: 0.6931 - Val Accuracy: 0.3822\n",
      "==============================\n",
      "Epoch 2/49\n",
      "------------------------------\n"
     ]
    },
    {
     "name": "stderr",
     "output_type": "stream",
     "text": [
      "Epoch [3/50] - Train: 100%|██████████████████████████████████████████████| 621/621 [05:17<00:00,  1.96it/s, acc=0.753, loss=0.488]\n"
     ]
    },
    {
     "name": "stdout",
     "output_type": "stream",
     "text": [
      "Epoch [3/50] - Train Loss: 0.4880 - Train Accuracy: 0.7531\n",
      "Epoch [3/50] - Val Loss: 0.6931 - Val Accuracy: 0.3822\n",
      "==============================\n",
      "Epoch 3/49\n",
      "------------------------------\n"
     ]
    },
    {
     "name": "stderr",
     "output_type": "stream",
     "text": [
      "Epoch [4/50] - Train: 100%|██████████████████████████████████████████████| 621/621 [05:15<00:00,  1.97it/s, acc=0.773, loss=0.466]\n"
     ]
    },
    {
     "name": "stdout",
     "output_type": "stream",
     "text": [
      "Epoch [4/50] - Train Loss: 0.4657 - Train Accuracy: 0.7730\n",
      "Epoch [4/50] - Val Loss: 0.6932 - Val Accuracy: 0.3815\n",
      "==============================\n",
      "Epoch 4/49\n",
      "------------------------------\n"
     ]
    },
    {
     "name": "stderr",
     "output_type": "stream",
     "text": [
      "Epoch [5/50] - Train: 100%|███████████████████████████████████████████████| 621/621 [05:17<00:00,  1.95it/s, acc=0.78, loss=0.454]\n"
     ]
    },
    {
     "name": "stdout",
     "output_type": "stream",
     "text": [
      "Epoch [5/50] - Train Loss: 0.4540 - Train Accuracy: 0.7803\n",
      "Epoch [5/50] - Val Loss: 0.6932 - Val Accuracy: 0.3819\n",
      "==============================\n",
      "Epoch 5/49\n",
      "------------------------------\n"
     ]
    },
    {
     "name": "stderr",
     "output_type": "stream",
     "text": [
      "Epoch [6/50] - Train: 100%|██████████████████████████████████████████████| 621/621 [05:27<00:00,  1.90it/s, acc=0.786, loss=0.439]\n"
     ]
    },
    {
     "name": "stdout",
     "output_type": "stream",
     "text": [
      "Epoch [6/50] - Train Loss: 0.4394 - Train Accuracy: 0.7858\n",
      "Epoch [6/50] - Val Loss: 0.6930 - Val Accuracy: 0.3819\n",
      "==============================\n",
      "Epoch 6/49\n",
      "------------------------------\n"
     ]
    },
    {
     "name": "stderr",
     "output_type": "stream",
     "text": [
      "Epoch [7/50] - Train: 100%|██████████████████████████████████████████████| 621/621 [05:23<00:00,  1.92it/s, acc=0.793, loss=0.434]\n"
     ]
    },
    {
     "name": "stdout",
     "output_type": "stream",
     "text": [
      "Epoch [7/50] - Train Loss: 0.4336 - Train Accuracy: 0.7928\n",
      "Epoch [7/50] - Val Loss: 0.6846 - Val Accuracy: 0.5014\n",
      "==============================\n",
      "Epoch 7/49\n",
      "------------------------------\n"
     ]
    },
    {
     "name": "stderr",
     "output_type": "stream",
     "text": [
      "Epoch [8/50] - Train: 100%|███████████████████████████████████████████████| 621/621 [05:15<00:00,  1.97it/s, acc=0.798, loss=0.43]\n"
     ]
    },
    {
     "name": "stdout",
     "output_type": "stream",
     "text": [
      "Epoch [8/50] - Train Loss: 0.4298 - Train Accuracy: 0.7975\n",
      "Epoch [8/50] - Val Loss: 0.6931 - Val Accuracy: 0.3963\n",
      "==============================\n",
      "Epoch 8/49\n",
      "------------------------------\n"
     ]
    },
    {
     "name": "stderr",
     "output_type": "stream",
     "text": [
      "Epoch [9/50] - Train: 100%|███████████████████████████████████████████████| 621/621 [05:06<00:00,  2.03it/s, acc=0.809, loss=0.41]\n"
     ]
    },
    {
     "name": "stdout",
     "output_type": "stream",
     "text": [
      "Epoch [9/50] - Train Loss: 0.4096 - Train Accuracy: 0.8091\n",
      "Epoch [9/50] - Val Loss: 0.6593 - Val Accuracy: 0.6439\n",
      "==============================\n",
      "Epoch 9/49\n",
      "------------------------------\n"
     ]
    },
    {
     "name": "stderr",
     "output_type": "stream",
     "text": [
      "Epoch [10/50] - Train: 100%|█████████████████████████████████████████████| 621/621 [05:05<00:00,  2.03it/s, acc=0.803, loss=0.415]\n"
     ]
    },
    {
     "name": "stdout",
     "output_type": "stream",
     "text": [
      "Epoch [10/50] - Train Loss: 0.4155 - Train Accuracy: 0.8033\n",
      "Epoch [10/50] - Val Loss: 0.6484 - Val Accuracy: 0.5843\n",
      "==============================\n",
      "Epoch 10/49\n",
      "------------------------------\n"
     ]
    },
    {
     "name": "stderr",
     "output_type": "stream",
     "text": [
      "Epoch [11/50] - Train: 100%|█████████████████████████████████████████████| 621/621 [05:05<00:00,  2.03it/s, acc=0.819, loss=0.399]\n"
     ]
    },
    {
     "name": "stdout",
     "output_type": "stream",
     "text": [
      "Epoch [11/50] - Train Loss: 0.3994 - Train Accuracy: 0.8189\n",
      "Epoch [11/50] - Val Loss: 0.6500 - Val Accuracy: 0.5578\n",
      "==============================\n",
      "Epoch 11/49\n",
      "------------------------------\n"
     ]
    },
    {
     "name": "stderr",
     "output_type": "stream",
     "text": [
      "Epoch [12/50] - Train: 100%|██████████████████████████████████████████████| 621/621 [05:12<00:00,  1.99it/s, acc=0.814, loss=0.41]\n"
     ]
    },
    {
     "name": "stdout",
     "output_type": "stream",
     "text": [
      "Epoch [12/50] - Train Loss: 0.4102 - Train Accuracy: 0.8136\n",
      "Epoch [12/50] - Val Loss: 0.6925 - Val Accuracy: 0.4108\n",
      "==============================\n",
      "Epoch 12/49\n",
      "------------------------------\n"
     ]
    },
    {
     "name": "stderr",
     "output_type": "stream",
     "text": [
      "Epoch [13/50] - Train: 100%|█████████████████████████████████████████████| 621/621 [05:09<00:00,  2.00it/s, acc=0.824, loss=0.388]\n"
     ]
    },
    {
     "name": "stdout",
     "output_type": "stream",
     "text": [
      "Epoch [13/50] - Train Loss: 0.3877 - Train Accuracy: 0.8240\n",
      "Epoch [13/50] - Val Loss: 0.6494 - Val Accuracy: 0.7028\n",
      "==============================\n",
      "Epoch 13/49\n",
      "------------------------------\n"
     ]
    },
    {
     "name": "stderr",
     "output_type": "stream",
     "text": [
      "Epoch [14/50] - Train: 100%|█████████████████████████████████████████████| 621/621 [05:07<00:00,  2.02it/s, acc=0.824, loss=0.385]\n"
     ]
    },
    {
     "name": "stdout",
     "output_type": "stream",
     "text": [
      "Epoch [14/50] - Train Loss: 0.3849 - Train Accuracy: 0.8239\n",
      "Epoch [14/50] - Val Loss: 0.6763 - Val Accuracy: 0.5434\n",
      "==============================\n",
      "Epoch 14/49\n",
      "------------------------------\n"
     ]
    },
    {
     "name": "stderr",
     "output_type": "stream",
     "text": [
      "Epoch [15/50] - Train: 100%|█████████████████████████████████████████████| 621/621 [05:07<00:00,  2.02it/s, acc=0.828, loss=0.379]\n"
     ]
    },
    {
     "name": "stdout",
     "output_type": "stream",
     "text": [
      "Epoch [15/50] - Train Loss: 0.3791 - Train Accuracy: 0.8277\n",
      "Epoch [15/50] - Val Loss: 0.6635 - Val Accuracy: 0.6703\n",
      "==============================\n",
      "Epoch 15/49\n",
      "------------------------------\n"
     ]
    },
    {
     "name": "stderr",
     "output_type": "stream",
     "text": [
      "Epoch [16/50] - Train: 100%|█████████████████████████████████████████████| 621/621 [05:07<00:00,  2.02it/s, acc=0.833, loss=0.376]\n"
     ]
    },
    {
     "name": "stdout",
     "output_type": "stream",
     "text": [
      "Epoch [16/50] - Train Loss: 0.3762 - Train Accuracy: 0.8330\n",
      "Epoch [16/50] - Val Loss: 0.6741 - Val Accuracy: 0.4993\n",
      "==============================\n",
      "Epoch 16/49\n",
      "------------------------------\n"
     ]
    },
    {
     "name": "stderr",
     "output_type": "stream",
     "text": [
      "Epoch [17/50] - Train: 100%|█████████████████████████████████████████████| 621/621 [05:09<00:00,  2.01it/s, acc=0.829, loss=0.373]\n"
     ]
    },
    {
     "name": "stdout",
     "output_type": "stream",
     "text": [
      "Epoch [17/50] - Train Loss: 0.3733 - Train Accuracy: 0.8288\n",
      "Epoch [17/50] - Val Loss: 0.6495 - Val Accuracy: 0.5011\n",
      "==============================\n",
      "Epoch 17/49\n",
      "------------------------------\n"
     ]
    },
    {
     "name": "stderr",
     "output_type": "stream",
     "text": [
      "Epoch [18/50] - Train: 100%|█████████████████████████████████████████████| 621/621 [05:10<00:00,  2.00it/s, acc=0.838, loss=0.369]\n"
     ]
    },
    {
     "name": "stdout",
     "output_type": "stream",
     "text": [
      "Epoch [18/50] - Train Loss: 0.3687 - Train Accuracy: 0.8376\n",
      "Epoch [18/50] - Val Loss: 0.6560 - Val Accuracy: 0.5106\n",
      "==============================\n",
      "Epoch 18/49\n",
      "------------------------------\n"
     ]
    },
    {
     "name": "stderr",
     "output_type": "stream",
     "text": [
      "Epoch [19/50] - Train: 100%|█████████████████████████████████████████████| 621/621 [05:09<00:00,  2.01it/s, acc=0.837, loss=0.367]\n"
     ]
    },
    {
     "name": "stdout",
     "output_type": "stream",
     "text": [
      "Epoch [19/50] - Train Loss: 0.3674 - Train Accuracy: 0.8371\n",
      "Epoch [19/50] - Val Loss: 0.6360 - Val Accuracy: 0.6329\n",
      "==============================\n",
      "Epoch 19/49\n",
      "------------------------------\n"
     ]
    },
    {
     "name": "stderr",
     "output_type": "stream",
     "text": [
      "Epoch [20/50] - Train: 100%|█████████████████████████████████████████████| 621/621 [05:11<00:00,  1.99it/s, acc=0.838, loss=0.362]\n"
     ]
    },
    {
     "name": "stdout",
     "output_type": "stream",
     "text": [
      "Epoch [20/50] - Train Loss: 0.3615 - Train Accuracy: 0.8383\n",
      "Epoch [20/50] - Val Loss: 0.6479 - Val Accuracy: 0.5240\n",
      "==============================\n",
      "Epoch 20/49\n",
      "------------------------------\n"
     ]
    },
    {
     "name": "stderr",
     "output_type": "stream",
     "text": [
      "Epoch [21/50] - Train: 100%|███████████████████████████████████████████████| 621/621 [05:07<00:00,  2.02it/s, acc=0.83, loss=0.38]\n"
     ]
    },
    {
     "name": "stdout",
     "output_type": "stream",
     "text": [
      "Epoch [21/50] - Train Loss: 0.3803 - Train Accuracy: 0.8299\n",
      "Epoch [21/50] - Val Loss: 0.6852 - Val Accuracy: 0.4954\n",
      "==============================\n",
      "Epoch 21/49\n",
      "------------------------------\n"
     ]
    },
    {
     "name": "stderr",
     "output_type": "stream",
     "text": [
      "Epoch [22/50] - Train: 100%|█████████████████████████████████████████████| 621/621 [05:08<00:00,  2.01it/s, acc=0.843, loss=0.356]\n"
     ]
    },
    {
     "name": "stdout",
     "output_type": "stream",
     "text": [
      "Epoch [22/50] - Train Loss: 0.3560 - Train Accuracy: 0.8427\n",
      "Epoch [22/50] - Val Loss: 0.6509 - Val Accuracy: 0.5829\n",
      "==============================\n",
      "Epoch 22/49\n",
      "------------------------------\n"
     ]
    },
    {
     "name": "stderr",
     "output_type": "stream",
     "text": [
      "Epoch [23/50] - Train: 100%|█████████████████████████████████████████████| 621/621 [05:07<00:00,  2.02it/s, acc=0.841, loss=0.354]\n"
     ]
    },
    {
     "name": "stdout",
     "output_type": "stream",
     "text": [
      "Epoch [23/50] - Train Loss: 0.3536 - Train Accuracy: 0.8412\n",
      "Epoch [23/50] - Val Loss: 0.5833 - Val Accuracy: 0.6636\n",
      "==============================\n",
      "Epoch 23/49\n",
      "------------------------------\n"
     ]
    },
    {
     "name": "stderr",
     "output_type": "stream",
     "text": [
      "Epoch [24/50] - Train: 100%|█████████████████████████████████████████████| 621/621 [05:23<00:00,  1.92it/s, acc=0.847, loss=0.348]\n"
     ]
    },
    {
     "name": "stdout",
     "output_type": "stream",
     "text": [
      "Epoch [24/50] - Train Loss: 0.3475 - Train Accuracy: 0.8465\n",
      "Epoch [24/50] - Val Loss: 0.6325 - Val Accuracy: 0.5977\n",
      "==============================\n",
      "Epoch 24/49\n",
      "------------------------------\n"
     ]
    },
    {
     "name": "stderr",
     "output_type": "stream",
     "text": [
      "Epoch [25/50] - Train: 100%|█████████████████████████████████████████████| 621/621 [05:11<00:00,  1.99it/s, acc=0.842, loss=0.349]\n"
     ]
    },
    {
     "name": "stdout",
     "output_type": "stream",
     "text": [
      "Epoch [25/50] - Train Loss: 0.3495 - Train Accuracy: 0.8421\n",
      "Epoch [25/50] - Val Loss: 0.5339 - Val Accuracy: 0.6738\n",
      "==============================\n",
      "Epoch 25/49\n",
      "------------------------------\n"
     ]
    },
    {
     "name": "stderr",
     "output_type": "stream",
     "text": [
      "Epoch [26/50] - Train: 100%|█████████████████████████████████████████████| 621/621 [05:10<00:00,  2.00it/s, acc=0.839, loss=0.355]\n"
     ]
    },
    {
     "name": "stdout",
     "output_type": "stream",
     "text": [
      "Epoch [26/50] - Train Loss: 0.3553 - Train Accuracy: 0.8392\n",
      "Epoch [26/50] - Val Loss: 0.5592 - Val Accuracy: 0.6883\n",
      "==============================\n",
      "Epoch 26/49\n",
      "------------------------------\n"
     ]
    },
    {
     "name": "stderr",
     "output_type": "stream",
     "text": [
      "Epoch [27/50] - Train: 100%|█████████████████████████████████████████████| 621/621 [05:06<00:00,  2.03it/s, acc=0.847, loss=0.347]\n"
     ]
    },
    {
     "name": "stdout",
     "output_type": "stream",
     "text": [
      "Epoch [27/50] - Train Loss: 0.3466 - Train Accuracy: 0.8474\n",
      "Epoch [27/50] - Val Loss: 0.6100 - Val Accuracy: 0.6640\n",
      "==============================\n",
      "Epoch 27/49\n",
      "------------------------------\n"
     ]
    },
    {
     "name": "stderr",
     "output_type": "stream",
     "text": [
      "Epoch [28/50] - Train: 100%|██████████████████████████████████████████████| 621/621 [05:05<00:00,  2.03it/s, acc=0.85, loss=0.343]\n"
     ]
    },
    {
     "name": "stdout",
     "output_type": "stream",
     "text": [
      "Epoch [28/50] - Train Loss: 0.3427 - Train Accuracy: 0.8501\n",
      "Epoch [28/50] - Val Loss: 0.4361 - Val Accuracy: 0.7863\n",
      "==============================\n",
      "Epoch 28/49\n",
      "------------------------------\n"
     ]
    },
    {
     "name": "stderr",
     "output_type": "stream",
     "text": [
      "Epoch [29/50] - Train: 100%|█████████████████████████████████████████████| 621/621 [05:08<00:00,  2.01it/s, acc=0.847, loss=0.341]\n"
     ]
    },
    {
     "name": "stdout",
     "output_type": "stream",
     "text": [
      "Epoch [29/50] - Train Loss: 0.3406 - Train Accuracy: 0.8470\n",
      "Epoch [29/50] - Val Loss: 0.5166 - Val Accuracy: 0.8353\n",
      "==============================\n",
      "Epoch 29/49\n",
      "------------------------------\n"
     ]
    },
    {
     "name": "stderr",
     "output_type": "stream",
     "text": [
      "Epoch [30/50] - Train: 100%|█████████████████████████████████████████████| 621/621 [05:15<00:00,  1.97it/s, acc=0.849, loss=0.342]\n"
     ]
    },
    {
     "name": "stdout",
     "output_type": "stream",
     "text": [
      "Epoch [30/50] - Train Loss: 0.3424 - Train Accuracy: 0.8486\n",
      "Epoch [30/50] - Val Loss: 0.4497 - Val Accuracy: 0.7574\n",
      "==============================\n",
      "Epoch 30/49\n",
      "------------------------------\n"
     ]
    },
    {
     "name": "stderr",
     "output_type": "stream",
     "text": [
      "Epoch [31/50] - Train: 100%|█████████████████████████████████████████████| 621/621 [05:11<00:00,  1.99it/s, acc=0.847, loss=0.337]\n"
     ]
    },
    {
     "name": "stdout",
     "output_type": "stream",
     "text": [
      "Epoch [31/50] - Train Loss: 0.3371 - Train Accuracy: 0.8468\n",
      "Epoch [31/50] - Val Loss: 0.4049 - Val Accuracy: 0.8142\n",
      "==============================\n",
      "Epoch 31/49\n",
      "------------------------------\n"
     ]
    },
    {
     "name": "stderr",
     "output_type": "stream",
     "text": [
      "Epoch [32/50] - Train: 100%|█████████████████████████████████████████████| 621/621 [05:12<00:00,  1.99it/s, acc=0.851, loss=0.331]\n"
     ]
    },
    {
     "name": "stdout",
     "output_type": "stream",
     "text": [
      "Epoch [32/50] - Train Loss: 0.3312 - Train Accuracy: 0.8508\n",
      "Epoch [32/50] - Val Loss: 0.3800 - Val Accuracy: 0.8427\n",
      "==============================\n",
      "Epoch 32/49\n",
      "------------------------------\n"
     ]
    },
    {
     "name": "stderr",
     "output_type": "stream",
     "text": [
      "Epoch [33/50] - Train: 100%|█████████████████████████████████████████████| 621/621 [05:08<00:00,  2.01it/s, acc=0.857, loss=0.325]\n"
     ]
    },
    {
     "name": "stdout",
     "output_type": "stream",
     "text": [
      "Epoch [33/50] - Train Loss: 0.3248 - Train Accuracy: 0.8570\n",
      "Epoch [33/50] - Val Loss: 0.3964 - Val Accuracy: 0.8230\n",
      "==============================\n",
      "Epoch 33/49\n",
      "------------------------------\n"
     ]
    },
    {
     "name": "stderr",
     "output_type": "stream",
     "text": [
      "Epoch [34/50] - Train: 100%|██████████████████████████████████████████████| 621/621 [05:10<00:00,  2.00it/s, acc=0.86, loss=0.326]\n"
     ]
    },
    {
     "name": "stdout",
     "output_type": "stream",
     "text": [
      "Epoch [34/50] - Train Loss: 0.3257 - Train Accuracy: 0.8597\n",
      "Epoch [34/50] - Val Loss: 0.3751 - Val Accuracy: 0.8417\n",
      "==============================\n",
      "Epoch 34/49\n",
      "------------------------------\n"
     ]
    },
    {
     "name": "stderr",
     "output_type": "stream",
     "text": [
      "Epoch [35/50] - Train: 100%|█████████████████████████████████████████████| 621/621 [05:08<00:00,  2.01it/s, acc=0.852, loss=0.333]\n"
     ]
    },
    {
     "name": "stdout",
     "output_type": "stream",
     "text": [
      "Epoch [35/50] - Train Loss: 0.3335 - Train Accuracy: 0.8519\n",
      "Epoch [35/50] - Val Loss: 0.3428 - Val Accuracy: 0.8459\n",
      "==============================\n",
      "Epoch 35/49\n",
      "------------------------------\n"
     ]
    },
    {
     "name": "stderr",
     "output_type": "stream",
     "text": [
      "Epoch [36/50] - Train: 100%|██████████████████████████████████████████████| 621/621 [05:09<00:00,  2.01it/s, acc=0.854, loss=0.33]\n"
     ]
    },
    {
     "name": "stdout",
     "output_type": "stream",
     "text": [
      "Epoch [36/50] - Train Loss: 0.3299 - Train Accuracy: 0.8537\n",
      "Epoch [36/50] - Val Loss: 0.4071 - Val Accuracy: 0.8092\n",
      "==============================\n",
      "Epoch 36/49\n",
      "------------------------------\n"
     ]
    },
    {
     "name": "stderr",
     "output_type": "stream",
     "text": [
      "Epoch [37/50] - Train: 100%|█████████████████████████████████████████████| 621/621 [05:11<00:00,  2.00it/s, acc=0.855, loss=0.325]\n"
     ]
    },
    {
     "name": "stdout",
     "output_type": "stream",
     "text": [
      "Epoch [37/50] - Train Loss: 0.3251 - Train Accuracy: 0.8552\n",
      "Epoch [37/50] - Val Loss: 0.3644 - Val Accuracy: 0.8360\n",
      "==============================\n",
      "Epoch 37/49\n",
      "------------------------------\n"
     ]
    },
    {
     "name": "stderr",
     "output_type": "stream",
     "text": [
      "Epoch [38/50] - Train: 100%|█████████████████████████████████████████████| 621/621 [05:11<00:00,  1.99it/s, acc=0.856, loss=0.326]\n"
     ]
    },
    {
     "name": "stdout",
     "output_type": "stream",
     "text": [
      "Epoch [38/50] - Train Loss: 0.3261 - Train Accuracy: 0.8565\n",
      "Epoch [38/50] - Val Loss: 0.3478 - Val Accuracy: 0.8484\n",
      "==============================\n",
      "Epoch 38/49\n",
      "------------------------------\n"
     ]
    },
    {
     "name": "stderr",
     "output_type": "stream",
     "text": [
      "Epoch [39/50] - Train: 100%|█████████████████████████████████████████████| 621/621 [05:10<00:00,  2.00it/s, acc=0.855, loss=0.323]\n"
     ]
    },
    {
     "name": "stdout",
     "output_type": "stream",
     "text": [
      "Epoch [39/50] - Train Loss: 0.3229 - Train Accuracy: 0.8547\n",
      "Epoch [39/50] - Val Loss: 0.3322 - Val Accuracy: 0.8516\n",
      "==============================\n",
      "Epoch 39/49\n",
      "------------------------------\n"
     ]
    },
    {
     "name": "stderr",
     "output_type": "stream",
     "text": [
      "Epoch [40/50] - Train: 100%|█████████████████████████████████████████████| 621/621 [05:09<00:00,  2.01it/s, acc=0.858, loss=0.322]\n"
     ]
    },
    {
     "name": "stdout",
     "output_type": "stream",
     "text": [
      "Epoch [40/50] - Train Loss: 0.3222 - Train Accuracy: 0.8578\n",
      "Epoch [40/50] - Val Loss: 0.3620 - Val Accuracy: 0.8364\n",
      "==============================\n",
      "Epoch 40/49\n",
      "------------------------------\n"
     ]
    },
    {
     "name": "stderr",
     "output_type": "stream",
     "text": [
      "Epoch [41/50] - Train: 100%|██████████████████████████████████████████████| 621/621 [05:09<00:00,  2.01it/s, acc=0.86, loss=0.321]\n"
     ]
    },
    {
     "name": "stdout",
     "output_type": "stream",
     "text": [
      "Epoch [41/50] - Train Loss: 0.3208 - Train Accuracy: 0.8595\n",
      "Epoch [41/50] - Val Loss: 0.3614 - Val Accuracy: 0.8396\n",
      "==============================\n",
      "Epoch 41/49\n",
      "------------------------------\n"
     ]
    },
    {
     "name": "stderr",
     "output_type": "stream",
     "text": [
      "Epoch [42/50] - Train: 100%|██████████████████████████████████████████████| 621/621 [05:11<00:00,  1.99it/s, acc=0.861, loss=0.32]\n"
     ]
    },
    {
     "name": "stdout",
     "output_type": "stream",
     "text": [
      "Epoch [42/50] - Train Loss: 0.3204 - Train Accuracy: 0.8614\n",
      "Epoch [42/50] - Val Loss: 0.3707 - Val Accuracy: 0.8378\n",
      "==============================\n",
      "Epoch 42/49\n",
      "------------------------------\n"
     ]
    },
    {
     "name": "stderr",
     "output_type": "stream",
     "text": [
      "Epoch [43/50] - Train: 100%|█████████████████████████████████████████████| 621/621 [05:12<00:00,  1.99it/s, acc=0.863, loss=0.315]\n"
     ]
    },
    {
     "name": "stdout",
     "output_type": "stream",
     "text": [
      "Epoch [43/50] - Train Loss: 0.3152 - Train Accuracy: 0.8627\n",
      "Epoch [43/50] - Val Loss: 0.3744 - Val Accuracy: 0.8371\n",
      "==============================\n",
      "Epoch 43/49\n",
      "------------------------------\n"
     ]
    },
    {
     "name": "stderr",
     "output_type": "stream",
     "text": [
      "Epoch [44/50] - Train: 100%|█████████████████████████████████████████████| 621/621 [05:08<00:00,  2.01it/s, acc=0.857, loss=0.319]\n"
     ]
    },
    {
     "name": "stdout",
     "output_type": "stream",
     "text": [
      "Epoch [44/50] - Train Loss: 0.3190 - Train Accuracy: 0.8574\n",
      "Epoch [44/50] - Val Loss: 0.4102 - Val Accuracy: 0.8114\n",
      "==============================\n",
      "Epoch 44/49\n",
      "------------------------------\n"
     ]
    },
    {
     "name": "stderr",
     "output_type": "stream",
     "text": [
      "Epoch [45/50] - Train: 100%|█████████████████████████████████████████████| 621/621 [05:08<00:00,  2.01it/s, acc=0.862, loss=0.318]\n"
     ]
    },
    {
     "name": "stdout",
     "output_type": "stream",
     "text": [
      "Epoch [45/50] - Train Loss: 0.3179 - Train Accuracy: 0.8620\n",
      "Epoch [45/50] - Val Loss: 0.3700 - Val Accuracy: 0.8441\n",
      "==============================\n",
      "Epoch 45/49\n",
      "------------------------------\n"
     ]
    },
    {
     "name": "stderr",
     "output_type": "stream",
     "text": [
      "Epoch [46/50] - Train: 100%|██████████████████████████████████████████████| 621/621 [05:09<00:00,  2.00it/s, acc=0.86, loss=0.316]\n"
     ]
    },
    {
     "name": "stdout",
     "output_type": "stream",
     "text": [
      "Epoch [46/50] - Train Loss: 0.3156 - Train Accuracy: 0.8603\n",
      "Epoch [46/50] - Val Loss: 0.3402 - Val Accuracy: 0.8494\n",
      "==============================\n",
      "Epoch 46/49\n",
      "------------------------------\n"
     ]
    },
    {
     "name": "stderr",
     "output_type": "stream",
     "text": [
      "Epoch [47/50] - Train: 100%|█████████████████████████████████████████████| 621/621 [05:07<00:00,  2.02it/s, acc=0.863, loss=0.309]\n"
     ]
    },
    {
     "name": "stdout",
     "output_type": "stream",
     "text": [
      "Epoch [47/50] - Train Loss: 0.3092 - Train Accuracy: 0.8625\n",
      "Epoch [47/50] - Val Loss: 0.3493 - Val Accuracy: 0.8441\n",
      "==============================\n",
      "Epoch 47/49\n",
      "------------------------------\n"
     ]
    },
    {
     "name": "stderr",
     "output_type": "stream",
     "text": [
      "Epoch [48/50] - Train: 100%|██████████████████████████████████████████████| 621/621 [05:07<00:00,  2.02it/s, acc=0.86, loss=0.321]\n"
     ]
    },
    {
     "name": "stdout",
     "output_type": "stream",
     "text": [
      "Epoch [48/50] - Train Loss: 0.3205 - Train Accuracy: 0.8596\n",
      "Epoch [48/50] - Val Loss: 0.3858 - Val Accuracy: 0.8378\n",
      "==============================\n",
      "Epoch 48/49\n",
      "------------------------------\n"
     ]
    },
    {
     "name": "stderr",
     "output_type": "stream",
     "text": [
      "Epoch [49/50] - Train: 100%|█████████████████████████████████████████████| 621/621 [05:06<00:00,  2.02it/s, acc=0.858, loss=0.321]\n"
     ]
    },
    {
     "name": "stdout",
     "output_type": "stream",
     "text": [
      "Epoch [49/50] - Train Loss: 0.3211 - Train Accuracy: 0.8583\n",
      "Epoch [49/50] - Val Loss: 0.3891 - Val Accuracy: 0.8198\n",
      "==============================\n",
      "Epoch 49/49\n",
      "------------------------------\n"
     ]
    },
    {
     "name": "stderr",
     "output_type": "stream",
     "text": [
      "Epoch [50/50] - Train: 100%|█████████████████████████████████████████████| 621/621 [05:10<00:00,  2.00it/s, acc=0.855, loss=0.324]\n"
     ]
    },
    {
     "name": "stdout",
     "output_type": "stream",
     "text": [
      "Epoch [50/50] - Train Loss: 0.3236 - Train Accuracy: 0.8548\n",
      "Epoch [50/50] - Val Loss: 0.3464 - Val Accuracy: 0.8480\n",
      "==============================\n"
     ]
    }
   ],
   "source": [
    "# (2) Modelling\n",
    "\n",
    "# 1. SqueezeNet 모델 불러오기 (pre-trained 모델)\n",
    "model = torchvision.models.squeezenet1_0(pretrained=True)\n",
    "\n",
    "# 모델의 마지막 fully connected layer를 변경하여 클래스 수에 맞게 조정\n",
    "num_classes = len(class_names)  # 클래스 수에 맞게 설정\n",
    "model.classifier[1] = nn.Conv2d(512, num_classes, kernel_size=(1, 1), stride=(1, 1))\n",
    "\n",
    "# GPU를 사용할 수 있다면 GPU로 모델 이동\n",
    "device = torch.device(\"cuda\" if torch.cuda.is_available() else \"cpu\")\n",
    "model.to(device)\n",
    "\n",
    "# epochs, learning rate\n",
    "num_epochs = 50\n",
    "learning_rate = 0.001\n",
    "\n",
    "# 손실 함수와 옵티마이저 정의\n",
    "criterion = nn.CrossEntropyLoss()\n",
    "optimizer = optim.Adam(model.parameters(), lr=learning_rate)\n",
    "\n",
    "# loss, acc\n",
    "train_losses = [] ;val_losses = []\n",
    "train_accuracy = [] ;val_accuracy = []\n",
    "\n",
    "# 모델 학습\n",
    "for epoch in range(num_epochs):\n",
    "    print(f'Epoch {epoch}/{num_epochs - 1}')\n",
    "    print('-' * 30)\n",
    "\n",
    "    # 학습 모드로 설정\n",
    "    model.train()\n",
    "    running_train_loss = 0.0\n",
    "    correct_train = 0\n",
    "    total_train = 0\n",
    "    \n",
    "    # tqdm으로 래핑한 데이터 로더\n",
    "    train_dataloader = tqdm(train_dataloader, total=len(train_dataloader), desc=f'Epoch [{epoch+1}/{num_epochs}] - Train')\n",
    "\n",
    "    for inputs, labels in train_dataloader:\n",
    "        inputs, labels = inputs.to(device), labels.to(device)\n",
    "\n",
    "        optimizer.zero_grad()\n",
    "        outputs = model(inputs)\n",
    "        loss = criterion(outputs, labels)\n",
    "        loss.backward()\n",
    "        optimizer.step()\n",
    "\n",
    "        running_train_loss += loss.item()\n",
    "        _, predicted = torch.max(outputs.data, 1)\n",
    "        total_train += labels.size(0)\n",
    "        correct_train += (predicted == labels).sum().item()\n",
    "        \n",
    "        # tqdm 업데이트 (진행률 표시)\n",
    "        train_dataloader.set_postfix(loss=running_train_loss / (len(train_dataloader)), acc=correct_train / total_train)\n",
    "\n",
    "    epoch_train_loss = running_train_loss / len(train_dataloader)\n",
    "    train_accuracy.append(correct_train / total_train)\n",
    "    train_losses.append(epoch_train_loss)\n",
    "\n",
    "    # 평가 모드로 설정\n",
    "    model.eval()\n",
    "    running_val_loss = 0.0\n",
    "    correct_val = 0\n",
    "    total_val = 0\n",
    "\n",
    "    with torch.no_grad():\n",
    "        for inputs, labels in val_dataloader:\n",
    "            inputs, labels = inputs.to(device), labels.to(device)\n",
    "            outputs = model(inputs)\n",
    "            loss = criterion(outputs, labels)\n",
    "\n",
    "            running_val_loss += loss.item()\n",
    "            _, predicted = torch.max(outputs.data, 1)\n",
    "            total_val += labels.size(0)\n",
    "            correct_val += (predicted == labels).sum().item()\n",
    "\n",
    "    epoch_val_loss = running_val_loss / len(val_dataloader)\n",
    "    val_accuracy.append(correct_val / total_val)\n",
    "    val_losses.append(epoch_val_loss)\n",
    "\n",
    "    # 모델 체크포인트 저장 (필요한 경우)\n",
    "    checkpoint = {\n",
    "        'epoch': epoch + 1,\n",
    "        'model_state_dict': model.state_dict(),\n",
    "        'optimizer_state_dict': optimizer.state_dict(),\n",
    "        'train_losses': train_losses,\n",
    "        'val_losses': val_losses,\n",
    "        'train_accuracy': train_accuracy,\n",
    "        'val_accuracy': val_accuracy\n",
    "    }\n",
    "    checkpoint_path = \"D:/Working_Directory/project_0912/model/checkpoint.pth\"\n",
    "    torch.save(checkpoint, checkpoint_path)\n",
    "\n",
    "    print(f'Epoch [{epoch+1}/{num_epochs}] - Train Loss: {epoch_train_loss:.4f} - Train Accuracy: {train_accuracy[-1]:.4f}')\n",
    "    print(f'Epoch [{epoch+1}/{num_epochs}] - Val Loss: {epoch_val_loss:.4f} - Val Accuracy: {val_accuracy[-1]:.4f}')\n",
    "    print('=' * 30)"
   ]
  },
  {
   "cell_type": "code",
   "execution_count": 19,
   "metadata": {
    "tags": []
   },
   "outputs": [
    {
     "name": "stdout",
     "output_type": "stream",
     "text": [
      "Final Test Accuracy: 0.8275\n"
     ]
    }
   ],
   "source": [
    "# 테스트 데이터셋을 사용하여 모델 최종 성능 평가\n",
    "model.eval()\n",
    "correct = 0\n",
    "total = 0\n",
    "with torch.no_grad():\n",
    "    for inputs, labels in test_dataloader:\n",
    "        inputs, labels = inputs.to(device), labels.to(device)\n",
    "        outputs = model(inputs)\n",
    "        _, predicted = torch.max(outputs.data, 1)\n",
    "        total += labels.size(0)\n",
    "        correct += (predicted == labels).sum().item()\n",
    "\n",
    "test_accuracy = correct / total\n",
    "print(f'Final Test Accuracy: {test_accuracy:.4f}')\n",
    "\n",
    "# ResNet-18 Model 저장\n",
    "torch.save(model.state_dict(), 'D:/Working_Directory/project_0912/model/squeezenet_model.pth')"
   ]
  },
  {
   "cell_type": "code",
   "execution_count": 20,
   "metadata": {
    "tags": []
   },
   "outputs": [
    {
     "data": {
      "image/png": "[encoded data removed]",
      "text/plain": [
       "<Figure size 1200x400 with 2 Axes>"
      ]
     },
     "metadata": {},
     "output_type": "display_data"
    }
   ],
   "source": [
    "# Loss와 Accuracy 그래프 시각화\n",
    "plt.figure(figsize=(12, 4))\n",
    "plt.subplot(1, 2, 1)\n",
    "plt.plot(train_losses, label='Train Loss')\n",
    "plt.plot(val_losses, label='Validation Loss')\n",
    "plt.xlabel('Epoch')\n",
    "plt.ylabel('Loss')\n",
    "plt.legend()\n",
    "\n",
    "plt.subplot(1, 2, 2)\n",
    "plt.plot(train_accuracy, label='Train Accuracy')\n",
    "plt.plot(val_accuracy, label='Validation Accuracy')\n",
    "plt.xlabel('Epoch')\n",
    "plt.ylabel('Accuracy')\n",
    "plt.legend()\n",
    "\n",
    "# 전체 그림의 제목\n",
    "plt.suptitle(\"SqueezeNet : Final Test Accuracy: 0.8275\", fontsize=16)\n",
    "plt.savefig(\"D:/Working_Directory/project_0912/model/SqueezeNet.png\")\n",
    "plt.show()"
   ]
  },
  {
   "cell_type": "markdown",
   "metadata": {},
   "source": [
    "## MobileNet"
   ]
  },
  {
   "cell_type": "code",
   "execution_count": 21,
   "metadata": {
    "tags": []
   },
   "outputs": [
    {
     "name": "stderr",
     "output_type": "stream",
     "text": [
      "C:\\Users\\Minwoo\\anaconda3\\envs\\myenv\\lib\\site-packages\\torchvision\\models\\_utils.py:223: UserWarning: Arguments other than a weight enum or `None` for 'weights' are deprecated since 0.13 and may be removed in the future. The current behavior is equivalent to passing `weights=MobileNet_V2_Weights.IMAGENET1K_V1`. You can also use `weights=MobileNet_V2_Weights.DEFAULT` to get the most up-to-date weights.\n",
      "  warnings.warn(msg)\n",
      "Downloading: \"https://download.pytorch.org/models/mobilenet_v2-b0353104.pth\" to C:\\Users\\Minwoo/.cache\\torch\\hub\\checkpoints\\mobilenet_v2-b0353104.pth\n",
      "100%|████████████████████████████████████████████████████████████████████████████████████████| 13.6M/13.6M [00:01<00:00, 11.2MB/s]\n"
     ]
    },
    {
     "name": "stdout",
     "output_type": "stream",
     "text": [
      "Epoch 0/49\n",
      "------------------------------\n"
     ]
    },
    {
     "name": "stderr",
     "output_type": "stream",
     "text": [
      "Epoch [1/50] - Train: 100%|████████████████████████████████████████████████| 621/621 [06:08<00:00,  1.68it/s, acc=0.8, loss=0.431]\n"
     ]
    },
    {
     "name": "stdout",
     "output_type": "stream",
     "text": [
      "Epoch [1/50] - Train Loss: 0.4307 - Train Accuracy: 0.8003\n",
      "Epoch [1/50] - Val Loss: 0.3454 - Val Accuracy: 0.8399\n",
      "==============================\n",
      "Epoch 1/49\n",
      "------------------------------\n"
     ]
    },
    {
     "name": "stderr",
     "output_type": "stream",
     "text": [
      "Epoch [2/50] - Train: 100%|██████████████████████████████████████████████| 621/621 [05:37<00:00,  1.84it/s, acc=0.831, loss=0.374]\n"
     ]
    },
    {
     "name": "stdout",
     "output_type": "stream",
     "text": [
      "Epoch [2/50] - Train Loss: 0.3737 - Train Accuracy: 0.8305\n",
      "Epoch [2/50] - Val Loss: 0.3255 - Val Accuracy: 0.8738\n",
      "==============================\n",
      "Epoch 2/49\n",
      "------------------------------\n"
     ]
    },
    {
     "name": "stderr",
     "output_type": "stream",
     "text": [
      "Epoch [3/50] - Train: 100%|██████████████████████████████████████████████| 621/621 [05:38<00:00,  1.84it/s, acc=0.847, loss=0.351]\n"
     ]
    },
    {
     "name": "stdout",
     "output_type": "stream",
     "text": [
      "Epoch [3/50] - Train Loss: 0.3515 - Train Accuracy: 0.8465\n",
      "Epoch [3/50] - Val Loss: 0.3688 - Val Accuracy: 0.8350\n",
      "==============================\n",
      "Epoch 3/49\n",
      "------------------------------\n"
     ]
    },
    {
     "name": "stderr",
     "output_type": "stream",
     "text": [
      "Epoch [4/50] - Train: 100%|███████████████████████████████████████████████| 621/621 [07:14<00:00,  1.43it/s, acc=0.853, loss=0.34]\n"
     ]
    },
    {
     "name": "stdout",
     "output_type": "stream",
     "text": [
      "Epoch [4/50] - Train Loss: 0.3397 - Train Accuracy: 0.8533\n",
      "Epoch [4/50] - Val Loss: 0.2990 - Val Accuracy: 0.8713\n",
      "==============================\n",
      "Epoch 4/49\n",
      "------------------------------\n"
     ]
    },
    {
     "name": "stderr",
     "output_type": "stream",
     "text": [
      "Epoch [5/50] - Train: 100%|██████████████████████████████████████████████| 621/621 [07:20<00:00,  1.41it/s, acc=0.861, loss=0.325]\n"
     ]
    },
    {
     "name": "stdout",
     "output_type": "stream",
     "text": [
      "Epoch [5/50] - Train Loss: 0.3248 - Train Accuracy: 0.8611\n",
      "Epoch [5/50] - Val Loss: 0.3199 - Val Accuracy: 0.8593\n",
      "==============================\n",
      "Epoch 5/49\n",
      "------------------------------\n"
     ]
    },
    {
     "name": "stderr",
     "output_type": "stream",
     "text": [
      "Epoch [6/50] - Train: 100%|██████████████████████████████████████████████| 621/621 [06:46<00:00,  1.53it/s, acc=0.863, loss=0.315]\n"
     ]
    },
    {
     "name": "stdout",
     "output_type": "stream",
     "text": [
      "Epoch [6/50] - Train Loss: 0.3153 - Train Accuracy: 0.8632\n",
      "Epoch [6/50] - Val Loss: 0.3226 - Val Accuracy: 0.8646\n",
      "==============================\n",
      "Epoch 6/49\n",
      "------------------------------\n"
     ]
    },
    {
     "name": "stderr",
     "output_type": "stream",
     "text": [
      "Epoch [7/50] - Train: 100%|██████████████████████████████████████████████| 621/621 [08:10<00:00,  1.27it/s, acc=0.865, loss=0.313]\n"
     ]
    },
    {
     "name": "stdout",
     "output_type": "stream",
     "text": [
      "Epoch [7/50] - Train Loss: 0.3129 - Train Accuracy: 0.8653\n",
      "Epoch [7/50] - Val Loss: 0.2872 - Val Accuracy: 0.8762\n",
      "==============================\n",
      "Epoch 7/49\n",
      "------------------------------\n"
     ]
    },
    {
     "name": "stderr",
     "output_type": "stream",
     "text": [
      "Epoch [8/50] - Train: 100%|██████████████████████████████████████████████| 621/621 [06:18<00:00,  1.64it/s, acc=0.871, loss=0.302]\n"
     ]
    },
    {
     "name": "stdout",
     "output_type": "stream",
     "text": [
      "Epoch [8/50] - Train Loss: 0.3016 - Train Accuracy: 0.8713\n",
      "Epoch [8/50] - Val Loss: 0.2871 - Val Accuracy: 0.8745\n",
      "==============================\n",
      "Epoch 8/49\n",
      "------------------------------\n"
     ]
    },
    {
     "name": "stderr",
     "output_type": "stream",
     "text": [
      "Epoch [9/50] - Train: 100%|███████████████████████████████████████████████| 621/621 [06:15<00:00,  1.65it/s, acc=0.88, loss=0.287]\n"
     ]
    },
    {
     "name": "stdout",
     "output_type": "stream",
     "text": [
      "Epoch [9/50] - Train Loss: 0.2875 - Train Accuracy: 0.8800\n",
      "Epoch [9/50] - Val Loss: 0.2627 - Val Accuracy: 0.8865\n",
      "==============================\n",
      "Epoch 9/49\n",
      "------------------------------\n"
     ]
    },
    {
     "name": "stderr",
     "output_type": "stream",
     "text": [
      "Epoch [10/50] - Train: 100%|██████████████████████████████████████████████| 621/621 [05:49<00:00,  1.78it/s, acc=0.88, loss=0.286]\n"
     ]
    },
    {
     "name": "stdout",
     "output_type": "stream",
     "text": [
      "Epoch [10/50] - Train Loss: 0.2862 - Train Accuracy: 0.8797\n",
      "Epoch [10/50] - Val Loss: 0.2738 - Val Accuracy: 0.8882\n",
      "==============================\n",
      "Epoch 10/49\n",
      "------------------------------\n"
     ]
    },
    {
     "name": "stderr",
     "output_type": "stream",
     "text": [
      "Epoch [11/50] - Train: 100%|█████████████████████████████████████████████| 621/621 [05:53<00:00,  1.75it/s, acc=0.882, loss=0.282]\n"
     ]
    },
    {
     "name": "stdout",
     "output_type": "stream",
     "text": [
      "Epoch [11/50] - Train Loss: 0.2816 - Train Accuracy: 0.8819\n",
      "Epoch [11/50] - Val Loss: 0.2933 - Val Accuracy: 0.8794\n",
      "==============================\n",
      "Epoch 11/49\n",
      "------------------------------\n"
     ]
    },
    {
     "name": "stderr",
     "output_type": "stream",
     "text": [
      "Epoch [12/50] - Train: 100%|█████████████████████████████████████████████| 621/621 [05:42<00:00,  1.81it/s, acc=0.885, loss=0.278]\n"
     ]
    },
    {
     "name": "stdout",
     "output_type": "stream",
     "text": [
      "Epoch [12/50] - Train Loss: 0.2776 - Train Accuracy: 0.8854\n",
      "Epoch [12/50] - Val Loss: 0.2458 - Val Accuracy: 0.8939\n",
      "==============================\n",
      "Epoch 12/49\n",
      "------------------------------\n"
     ]
    },
    {
     "name": "stderr",
     "output_type": "stream",
     "text": [
      "Epoch [13/50] - Train: 100%|█████████████████████████████████████████████| 621/621 [05:45<00:00,  1.80it/s, acc=0.893, loss=0.257]\n"
     ]
    },
    {
     "name": "stdout",
     "output_type": "stream",
     "text": [
      "Epoch [13/50] - Train Loss: 0.2566 - Train Accuracy: 0.8933\n",
      "Epoch [13/50] - Val Loss: 0.2688 - Val Accuracy: 0.8900\n",
      "==============================\n",
      "Epoch 13/49\n",
      "------------------------------\n"
     ]
    },
    {
     "name": "stderr",
     "output_type": "stream",
     "text": [
      "Epoch [14/50] - Train: 100%|█████████████████████████████████████████████| 621/621 [05:50<00:00,  1.77it/s, acc=0.892, loss=0.262]\n"
     ]
    },
    {
     "name": "stdout",
     "output_type": "stream",
     "text": [
      "Epoch [14/50] - Train Loss: 0.2624 - Train Accuracy: 0.8917\n",
      "Epoch [14/50] - Val Loss: 0.2527 - Val Accuracy: 0.8960\n",
      "==============================\n",
      "Epoch 14/49\n",
      "------------------------------\n"
     ]
    },
    {
     "name": "stderr",
     "output_type": "stream",
     "text": [
      "Epoch [15/50] - Train: 100%|█████████████████████████████████████████████| 621/621 [05:46<00:00,  1.79it/s, acc=0.892, loss=0.254]\n"
     ]
    },
    {
     "name": "stdout",
     "output_type": "stream",
     "text": [
      "Epoch [15/50] - Train Loss: 0.2544 - Train Accuracy: 0.8924\n",
      "Epoch [15/50] - Val Loss: 0.2943 - Val Accuracy: 0.8798\n",
      "==============================\n",
      "Epoch 15/49\n",
      "------------------------------\n"
     ]
    },
    {
     "name": "stderr",
     "output_type": "stream",
     "text": [
      "Epoch [16/50] - Train: 100%|█████████████████████████████████████████████| 621/621 [06:01<00:00,  1.72it/s, acc=0.893, loss=0.259]\n"
     ]
    },
    {
     "name": "stdout",
     "output_type": "stream",
     "text": [
      "Epoch [16/50] - Train Loss: 0.2591 - Train Accuracy: 0.8932\n",
      "Epoch [16/50] - Val Loss: 0.2735 - Val Accuracy: 0.8882\n",
      "==============================\n",
      "Epoch 16/49\n",
      "------------------------------\n"
     ]
    },
    {
     "name": "stderr",
     "output_type": "stream",
     "text": [
      "Epoch [17/50] - Train: 100%|███████████████████████████████████████████████| 621/621 [06:04<00:00,  1.70it/s, acc=0.9, loss=0.244]\n"
     ]
    },
    {
     "name": "stdout",
     "output_type": "stream",
     "text": [
      "Epoch [17/50] - Train Loss: 0.2437 - Train Accuracy: 0.8999\n",
      "Epoch [17/50] - Val Loss: 0.2539 - Val Accuracy: 0.8893\n",
      "==============================\n",
      "Epoch 17/49\n",
      "------------------------------\n"
     ]
    },
    {
     "name": "stderr",
     "output_type": "stream",
     "text": [
      "Epoch [18/50] - Train: 100%|█████████████████████████████████████████████| 621/621 [05:59<00:00,  1.73it/s, acc=0.903, loss=0.236]\n"
     ]
    },
    {
     "name": "stdout",
     "output_type": "stream",
     "text": [
      "Epoch [18/50] - Train Loss: 0.2365 - Train Accuracy: 0.9034\n",
      "Epoch [18/50] - Val Loss: 0.2433 - Val Accuracy: 0.9041\n",
      "==============================\n",
      "Epoch 18/49\n",
      "------------------------------\n"
     ]
    },
    {
     "name": "stderr",
     "output_type": "stream",
     "text": [
      "Epoch [19/50] - Train: 100%|██████████████████████████████████████████████| 621/621 [05:58<00:00,  1.73it/s, acc=0.902, loss=0.24]\n"
     ]
    },
    {
     "name": "stdout",
     "output_type": "stream",
     "text": [
      "Epoch [19/50] - Train Loss: 0.2400 - Train Accuracy: 0.9016\n",
      "Epoch [19/50] - Val Loss: 0.2372 - Val Accuracy: 0.9013\n",
      "==============================\n",
      "Epoch 19/49\n",
      "------------------------------\n"
     ]
    },
    {
     "name": "stderr",
     "output_type": "stream",
     "text": [
      "Epoch [20/50] - Train: 100%|█████████████████████████████████████████████| 621/621 [06:00<00:00,  1.72it/s, acc=0.903, loss=0.241]\n"
     ]
    },
    {
     "name": "stdout",
     "output_type": "stream",
     "text": [
      "Epoch [20/50] - Train Loss: 0.2405 - Train Accuracy: 0.9026\n",
      "Epoch [20/50] - Val Loss: 0.2535 - Val Accuracy: 0.8995\n",
      "==============================\n",
      "Epoch 20/49\n",
      "------------------------------\n"
     ]
    },
    {
     "name": "stderr",
     "output_type": "stream",
     "text": [
      "Epoch [21/50] - Train: 100%|█████████████████████████████████████████████| 621/621 [05:53<00:00,  1.75it/s, acc=0.902, loss=0.235]\n"
     ]
    },
    {
     "name": "stdout",
     "output_type": "stream",
     "text": [
      "Epoch [21/50] - Train Loss: 0.2352 - Train Accuracy: 0.9016\n",
      "Epoch [21/50] - Val Loss: 0.2433 - Val Accuracy: 0.9044\n",
      "==============================\n",
      "Epoch 21/49\n",
      "------------------------------\n"
     ]
    },
    {
     "name": "stderr",
     "output_type": "stream",
     "text": [
      "Epoch [22/50] - Train: 100%|██████████████████████████████████████████████| 621/621 [07:37<00:00,  1.36it/s, acc=0.905, loss=0.23]\n"
     ]
    },
    {
     "name": "stdout",
     "output_type": "stream",
     "text": [
      "Epoch [22/50] - Train Loss: 0.2304 - Train Accuracy: 0.9055\n",
      "Epoch [22/50] - Val Loss: 0.2568 - Val Accuracy: 0.8942\n",
      "==============================\n",
      "Epoch 22/49\n",
      "------------------------------\n"
     ]
    },
    {
     "name": "stderr",
     "output_type": "stream",
     "text": [
      "Epoch [23/50] - Train: 100%|█████████████████████████████████████████████| 621/621 [06:50<00:00,  1.51it/s, acc=0.909, loss=0.225]\n"
     ]
    },
    {
     "name": "stdout",
     "output_type": "stream",
     "text": [
      "Epoch [23/50] - Train Loss: 0.2246 - Train Accuracy: 0.9087\n",
      "Epoch [23/50] - Val Loss: 0.2470 - Val Accuracy: 0.9030\n",
      "==============================\n",
      "Epoch 23/49\n",
      "------------------------------\n"
     ]
    },
    {
     "name": "stderr",
     "output_type": "stream",
     "text": [
      "Epoch [24/50] - Train: 100%|█████████████████████████████████████████████| 621/621 [05:47<00:00,  1.79it/s, acc=0.911, loss=0.216]\n"
     ]
    },
    {
     "name": "stdout",
     "output_type": "stream",
     "text": [
      "Epoch [24/50] - Train Loss: 0.2164 - Train Accuracy: 0.9111\n",
      "Epoch [24/50] - Val Loss: 0.2297 - Val Accuracy: 0.9076\n",
      "==============================\n",
      "Epoch 24/49\n",
      "------------------------------\n"
     ]
    },
    {
     "name": "stderr",
     "output_type": "stream",
     "text": [
      "Epoch [25/50] - Train: 100%|██████████████████████████████████████████████| 621/621 [05:42<00:00,  1.81it/s, acc=0.914, loss=0.21]\n"
     ]
    },
    {
     "name": "stdout",
     "output_type": "stream",
     "text": [
      "Epoch [25/50] - Train Loss: 0.2103 - Train Accuracy: 0.9140\n",
      "Epoch [25/50] - Val Loss: 0.2351 - Val Accuracy: 0.8999\n",
      "==============================\n",
      "Epoch 25/49\n",
      "------------------------------\n"
     ]
    },
    {
     "name": "stderr",
     "output_type": "stream",
     "text": [
      "Epoch [26/50] - Train: 100%|██████████████████████████████████████████████| 621/621 [05:40<00:00,  1.82it/s, acc=0.914, loss=0.21]\n"
     ]
    },
    {
     "name": "stdout",
     "output_type": "stream",
     "text": [
      "Epoch [26/50] - Train Loss: 0.2097 - Train Accuracy: 0.9145\n",
      "Epoch [26/50] - Val Loss: 0.2399 - Val Accuracy: 0.9083\n",
      "==============================\n",
      "Epoch 26/49\n",
      "------------------------------\n"
     ]
    },
    {
     "name": "stderr",
     "output_type": "stream",
     "text": [
      "Epoch [27/50] - Train: 100%|█████████████████████████████████████████████| 621/621 [05:39<00:00,  1.83it/s, acc=0.913, loss=0.211]\n"
     ]
    },
    {
     "name": "stdout",
     "output_type": "stream",
     "text": [
      "Epoch [27/50] - Train Loss: 0.2106 - Train Accuracy: 0.9133\n",
      "Epoch [27/50] - Val Loss: 0.2593 - Val Accuracy: 0.9034\n",
      "==============================\n",
      "Epoch 27/49\n",
      "------------------------------\n"
     ]
    },
    {
     "name": "stderr",
     "output_type": "stream",
     "text": [
      "Epoch [28/50] - Train: 100%|█████████████████████████████████████████████| 621/621 [05:38<00:00,  1.83it/s, acc=0.922, loss=0.192]\n"
     ]
    },
    {
     "name": "stdout",
     "output_type": "stream",
     "text": [
      "Epoch [28/50] - Train Loss: 0.1919 - Train Accuracy: 0.9222\n",
      "Epoch [28/50] - Val Loss: 0.2150 - Val Accuracy: 0.9115\n",
      "==============================\n",
      "Epoch 28/49\n",
      "------------------------------\n"
     ]
    },
    {
     "name": "stderr",
     "output_type": "stream",
     "text": [
      "Epoch [29/50] - Train: 100%|█████████████████████████████████████████████| 621/621 [05:36<00:00,  1.85it/s, acc=0.916, loss=0.206]\n"
     ]
    },
    {
     "name": "stdout",
     "output_type": "stream",
     "text": [
      "Epoch [29/50] - Train Loss: 0.2063 - Train Accuracy: 0.9160\n",
      "Epoch [29/50] - Val Loss: 0.3392 - Val Accuracy: 0.8734\n",
      "==============================\n",
      "Epoch 29/49\n",
      "------------------------------\n"
     ]
    },
    {
     "name": "stderr",
     "output_type": "stream",
     "text": [
      "Epoch [30/50] - Train: 100%|█████████████████████████████████████████████| 621/621 [05:38<00:00,  1.83it/s, acc=0.915, loss=0.215]\n"
     ]
    },
    {
     "name": "stdout",
     "output_type": "stream",
     "text": [
      "Epoch [30/50] - Train Loss: 0.2154 - Train Accuracy: 0.9151\n",
      "Epoch [30/50] - Val Loss: 0.2585 - Val Accuracy: 0.8956\n",
      "==============================\n",
      "Epoch 30/49\n",
      "------------------------------\n"
     ]
    },
    {
     "name": "stderr",
     "output_type": "stream",
     "text": [
      "Epoch [31/50] - Train: 100%|█████████████████████████████████████████████| 621/621 [05:41<00:00,  1.82it/s, acc=0.924, loss=0.194]\n"
     ]
    },
    {
     "name": "stdout",
     "output_type": "stream",
     "text": [
      "Epoch [31/50] - Train Loss: 0.1936 - Train Accuracy: 0.9241\n",
      "Epoch [31/50] - Val Loss: 0.2267 - Val Accuracy: 0.9133\n",
      "==============================\n",
      "Epoch 31/49\n",
      "------------------------------\n"
     ]
    },
    {
     "name": "stderr",
     "output_type": "stream",
     "text": [
      "Epoch [32/50] - Train: 100%|█████████████████████████████████████████████| 621/621 [05:40<00:00,  1.83it/s, acc=0.922, loss=0.197]\n"
     ]
    },
    {
     "name": "stdout",
     "output_type": "stream",
     "text": [
      "Epoch [32/50] - Train Loss: 0.1968 - Train Accuracy: 0.9224\n",
      "Epoch [32/50] - Val Loss: 0.2308 - Val Accuracy: 0.9087\n",
      "==============================\n",
      "Epoch 32/49\n",
      "------------------------------\n"
     ]
    },
    {
     "name": "stderr",
     "output_type": "stream",
     "text": [
      "Epoch [33/50] - Train: 100%|█████████████████████████████████████████████| 621/621 [05:38<00:00,  1.84it/s, acc=0.927, loss=0.181]\n"
     ]
    },
    {
     "name": "stdout",
     "output_type": "stream",
     "text": [
      "Epoch [33/50] - Train Loss: 0.1813 - Train Accuracy: 0.9273\n",
      "Epoch [33/50] - Val Loss: 0.2202 - Val Accuracy: 0.9111\n",
      "==============================\n",
      "Epoch 33/49\n",
      "------------------------------\n"
     ]
    },
    {
     "name": "stderr",
     "output_type": "stream",
     "text": [
      "Epoch [34/50] - Train: 100%|██████████████████████████████████████████████| 621/621 [05:41<00:00,  1.82it/s, acc=0.93, loss=0.181]\n"
     ]
    },
    {
     "name": "stdout",
     "output_type": "stream",
     "text": [
      "Epoch [34/50] - Train Loss: 0.1809 - Train Accuracy: 0.9304\n",
      "Epoch [34/50] - Val Loss: 0.2287 - Val Accuracy: 0.9044\n",
      "==============================\n",
      "Epoch 34/49\n",
      "------------------------------\n"
     ]
    },
    {
     "name": "stderr",
     "output_type": "stream",
     "text": [
      "Epoch [35/50] - Train: 100%|█████████████████████████████████████████████| 621/621 [05:38<00:00,  1.83it/s, acc=0.931, loss=0.176]\n"
     ]
    },
    {
     "name": "stdout",
     "output_type": "stream",
     "text": [
      "Epoch [35/50] - Train Loss: 0.1757 - Train Accuracy: 0.9311\n",
      "Epoch [35/50] - Val Loss: 0.2894 - Val Accuracy: 0.9016\n",
      "==============================\n",
      "Epoch 35/49\n",
      "------------------------------\n"
     ]
    },
    {
     "name": "stderr",
     "output_type": "stream",
     "text": [
      "Epoch [36/50] - Train: 100%|██████████████████████████████████████████████| 621/621 [05:59<00:00,  1.73it/s, acc=0.93, loss=0.175]\n"
     ]
    },
    {
     "name": "stdout",
     "output_type": "stream",
     "text": [
      "Epoch [36/50] - Train Loss: 0.1752 - Train Accuracy: 0.9300\n",
      "Epoch [36/50] - Val Loss: 0.2257 - Val Accuracy: 0.9161\n",
      "==============================\n",
      "Epoch 36/49\n",
      "------------------------------\n"
     ]
    },
    {
     "name": "stderr",
     "output_type": "stream",
     "text": [
      "Epoch [37/50] - Train: 100%|██████████████████████████████████████████████| 621/621 [05:54<00:00,  1.75it/s, acc=0.93, loss=0.175]\n"
     ]
    },
    {
     "name": "stdout",
     "output_type": "stream",
     "text": [
      "Epoch [37/50] - Train Loss: 0.1754 - Train Accuracy: 0.9303\n",
      "Epoch [37/50] - Val Loss: 0.2225 - Val Accuracy: 0.9111\n",
      "==============================\n",
      "Epoch 37/49\n",
      "------------------------------\n"
     ]
    },
    {
     "name": "stderr",
     "output_type": "stream",
     "text": [
      "Epoch [38/50] - Train: 100%|█████████████████████████████████████████████| 621/621 [05:39<00:00,  1.83it/s, acc=0.929, loss=0.176]\n"
     ]
    },
    {
     "name": "stdout",
     "output_type": "stream",
     "text": [
      "Epoch [38/50] - Train Loss: 0.1765 - Train Accuracy: 0.9285\n",
      "Epoch [38/50] - Val Loss: 0.2151 - Val Accuracy: 0.9168\n",
      "==============================\n",
      "Epoch 38/49\n",
      "------------------------------\n"
     ]
    },
    {
     "name": "stderr",
     "output_type": "stream",
     "text": [
      "Epoch [39/50] - Train: 100%|█████████████████████████████████████████████| 621/621 [06:05<00:00,  1.70it/s, acc=0.937, loss=0.162]\n"
     ]
    },
    {
     "name": "stdout",
     "output_type": "stream",
     "text": [
      "Epoch [39/50] - Train Loss: 0.1623 - Train Accuracy: 0.9368\n",
      "Epoch [39/50] - Val Loss: 0.2253 - Val Accuracy: 0.9087\n",
      "==============================\n",
      "Epoch 39/49\n",
      "------------------------------\n"
     ]
    },
    {
     "name": "stderr",
     "output_type": "stream",
     "text": [
      "Epoch [40/50] - Train: 100%|█████████████████████████████████████████████| 621/621 [05:57<00:00,  1.74it/s, acc=0.932, loss=0.165]\n"
     ]
    },
    {
     "name": "stdout",
     "output_type": "stream",
     "text": [
      "Epoch [40/50] - Train Loss: 0.1649 - Train Accuracy: 0.9322\n",
      "Epoch [40/50] - Val Loss: 0.2244 - Val Accuracy: 0.9168\n",
      "==============================\n",
      "Epoch 40/49\n",
      "------------------------------\n"
     ]
    },
    {
     "name": "stderr",
     "output_type": "stream",
     "text": [
      "Epoch [41/50] - Train: 100%|█████████████████████████████████████████████| 621/621 [06:00<00:00,  1.72it/s, acc=0.935, loss=0.159]\n"
     ]
    },
    {
     "name": "stdout",
     "output_type": "stream",
     "text": [
      "Epoch [41/50] - Train Loss: 0.1589 - Train Accuracy: 0.9355\n",
      "Epoch [41/50] - Val Loss: 0.2386 - Val Accuracy: 0.9076\n",
      "==============================\n",
      "Epoch 41/49\n",
      "------------------------------\n"
     ]
    },
    {
     "name": "stderr",
     "output_type": "stream",
     "text": [
      "Epoch [42/50] - Train: 100%|██████████████████████████████████████████████| 621/621 [05:46<00:00,  1.79it/s, acc=0.937, loss=0.16]\n"
     ]
    },
    {
     "name": "stdout",
     "output_type": "stream",
     "text": [
      "Epoch [42/50] - Train Loss: 0.1599 - Train Accuracy: 0.9371\n",
      "Epoch [42/50] - Val Loss: 0.2194 - Val Accuracy: 0.9168\n",
      "==============================\n",
      "Epoch 42/49\n",
      "------------------------------\n"
     ]
    },
    {
     "name": "stderr",
     "output_type": "stream",
     "text": [
      "Epoch [43/50] - Train: 100%|█████████████████████████████████████████████| 621/621 [06:02<00:00,  1.71it/s, acc=0.936, loss=0.168]\n"
     ]
    },
    {
     "name": "stdout",
     "output_type": "stream",
     "text": [
      "Epoch [43/50] - Train Loss: 0.1683 - Train Accuracy: 0.9356\n",
      "Epoch [43/50] - Val Loss: 0.2523 - Val Accuracy: 0.9073\n",
      "==============================\n",
      "Epoch 43/49\n",
      "------------------------------\n"
     ]
    },
    {
     "name": "stderr",
     "output_type": "stream",
     "text": [
      "Epoch [44/50] - Train: 100%|██████████████████████████████████████████████| 621/621 [05:59<00:00,  1.73it/s, acc=0.937, loss=0.16]\n"
     ]
    },
    {
     "name": "stdout",
     "output_type": "stream",
     "text": [
      "Epoch [44/50] - Train Loss: 0.1599 - Train Accuracy: 0.9369\n",
      "Epoch [44/50] - Val Loss: 0.2424 - Val Accuracy: 0.9094\n",
      "==============================\n",
      "Epoch 44/49\n",
      "------------------------------\n"
     ]
    },
    {
     "name": "stderr",
     "output_type": "stream",
     "text": [
      "Epoch [45/50] - Train: 100%|█████████████████████████████████████████████| 621/621 [05:43<00:00,  1.81it/s, acc=0.937, loss=0.159]\n"
     ]
    },
    {
     "name": "stdout",
     "output_type": "stream",
     "text": [
      "Epoch [45/50] - Train Loss: 0.1586 - Train Accuracy: 0.9371\n",
      "Epoch [45/50] - Val Loss: 0.2075 - Val Accuracy: 0.9228\n",
      "==============================\n",
      "Epoch 45/49\n",
      "------------------------------\n"
     ]
    },
    {
     "name": "stderr",
     "output_type": "stream",
     "text": [
      "Epoch [46/50] - Train: 100%|█████████████████████████████████████████████| 621/621 [05:45<00:00,  1.80it/s, acc=0.941, loss=0.151]\n"
     ]
    },
    {
     "name": "stdout",
     "output_type": "stream",
     "text": [
      "Epoch [46/50] - Train Loss: 0.1506 - Train Accuracy: 0.9410\n",
      "Epoch [46/50] - Val Loss: 0.2627 - Val Accuracy: 0.9087\n",
      "==============================\n",
      "Epoch 46/49\n",
      "------------------------------\n"
     ]
    },
    {
     "name": "stderr",
     "output_type": "stream",
     "text": [
      "Epoch [47/50] - Train: 100%|██████████████████████████████████████████████| 621/621 [05:43<00:00,  1.81it/s, acc=0.936, loss=0.16]\n"
     ]
    },
    {
     "name": "stdout",
     "output_type": "stream",
     "text": [
      "Epoch [47/50] - Train Loss: 0.1604 - Train Accuracy: 0.9364\n",
      "Epoch [47/50] - Val Loss: 0.2305 - Val Accuracy: 0.9164\n",
      "==============================\n",
      "Epoch 47/49\n",
      "------------------------------\n"
     ]
    },
    {
     "name": "stderr",
     "output_type": "stream",
     "text": [
      "Epoch [48/50] - Train: 100%|█████████████████████████████████████████████| 621/621 [05:45<00:00,  1.80it/s, acc=0.937, loss=0.158]\n"
     ]
    },
    {
     "name": "stdout",
     "output_type": "stream",
     "text": [
      "Epoch [48/50] - Train Loss: 0.1582 - Train Accuracy: 0.9366\n",
      "Epoch [48/50] - Val Loss: 0.2288 - Val Accuracy: 0.9104\n",
      "==============================\n",
      "Epoch 48/49\n",
      "------------------------------\n"
     ]
    },
    {
     "name": "stderr",
     "output_type": "stream",
     "text": [
      "Epoch [49/50] - Train: 100%|█████████████████████████████████████████████| 621/621 [05:43<00:00,  1.81it/s, acc=0.942, loss=0.147]\n"
     ]
    },
    {
     "name": "stdout",
     "output_type": "stream",
     "text": [
      "Epoch [49/50] - Train Loss: 0.1472 - Train Accuracy: 0.9417\n",
      "Epoch [49/50] - Val Loss: 0.2290 - Val Accuracy: 0.9182\n",
      "==============================\n",
      "Epoch 49/49\n",
      "------------------------------\n"
     ]
    },
    {
     "name": "stderr",
     "output_type": "stream",
     "text": [
      "Epoch [50/50] - Train: 100%|██████████████████████████████████████████████| 621/621 [05:41<00:00,  1.82it/s, acc=0.941, loss=0.15]\n"
     ]
    },
    {
     "name": "stdout",
     "output_type": "stream",
     "text": [
      "Epoch [50/50] - Train Loss: 0.1496 - Train Accuracy: 0.9413\n",
      "Epoch [50/50] - Val Loss: 0.2347 - Val Accuracy: 0.9122\n",
      "==============================\n"
     ]
    }
   ],
   "source": [
    "# (2) Modelling\n",
    "\n",
    "# 1. MobileNet 모델 불러오기 (pre-trained 모델)\n",
    "model = torchvision.models.mobilenet_v2(pretrained=True)\n",
    "\n",
    "# 모델의 마지막 fully connected layer를 변경하여 클래스 수에 맞게 조정\n",
    "num_classes = len(class_names)  # 클래스 수에 맞게 설정\n",
    "model.classifier[1] = nn.Linear(model.last_channel, num_classes)\n",
    "\n",
    "# GPU를 사용할 수 있다면 GPU로 모델 이동\n",
    "device = torch.device(\"cuda\" if torch.cuda.is_available() else \"cpu\")\n",
    "model.to(device)\n",
    "\n",
    "# epochs, learning rate\n",
    "num_epochs = 50\n",
    "learning_rate = 0.001\n",
    "\n",
    "# 손실 함수와 옵티마이저 정의\n",
    "criterion = nn.CrossEntropyLoss()\n",
    "optimizer = optim.Adam(model.parameters(), lr=learning_rate)\n",
    "\n",
    "# loss, acc\n",
    "train_losses = [] ;val_losses = []\n",
    "train_accuracy = [] ;val_accuracy = []\n",
    "\n",
    "# 모델 학습\n",
    "for epoch in range(num_epochs):\n",
    "    print(f'Epoch {epoch}/{num_epochs - 1}')\n",
    "    print('-' * 30)\n",
    "\n",
    "    # 학습 모드로 설정\n",
    "    model.train()\n",
    "    running_train_loss = 0.0\n",
    "    correct_train = 0\n",
    "    total_train = 0\n",
    "    \n",
    "    # tqdm으로 래핑한 데이터 로더\n",
    "    train_dataloader = tqdm(train_dataloader, total=len(train_dataloader), desc=f'Epoch [{epoch+1}/{num_epochs}] - Train')\n",
    "\n",
    "    for inputs, labels in train_dataloader:\n",
    "        inputs, labels = inputs.to(device), labels.to(device)\n",
    "\n",
    "        optimizer.zero_grad()\n",
    "        outputs = model(inputs)\n",
    "        loss = criterion(outputs, labels)\n",
    "        loss.backward()\n",
    "        optimizer.step()\n",
    "\n",
    "        running_train_loss += loss.item()\n",
    "        _, predicted = torch.max(outputs.data, 1)\n",
    "        total_train += labels.size(0)\n",
    "        correct_train += (predicted == labels).sum().item()\n",
    "        \n",
    "        # tqdm 업데이트 (진행률 표시)\n",
    "        train_dataloader.set_postfix(loss=running_train_loss / (len(train_dataloader)), acc=correct_train / total_train)\n",
    "\n",
    "    epoch_train_loss = running_train_loss / len(train_dataloader)\n",
    "    train_accuracy.append(correct_train / total_train)\n",
    "    train_losses.append(epoch_train_loss)\n",
    "\n",
    "    # 평가 모드로 설정\n",
    "    model.eval()\n",
    "    running_val_loss = 0.0\n",
    "    correct_val = 0\n",
    "    total_val = 0\n",
    "\n",
    "    with torch.no_grad():\n",
    "        for inputs, labels in val_dataloader:\n",
    "            inputs, labels = inputs.to(device), labels.to(device)\n",
    "            outputs = model(inputs)\n",
    "            loss = criterion(outputs, labels)\n",
    "\n",
    "            running_val_loss += loss.item()\n",
    "            _, predicted = torch.max(outputs.data, 1)\n",
    "            total_val += labels.size(0)\n",
    "            correct_val += (predicted == labels).sum().item()\n",
    "\n",
    "    epoch_val_loss = running_val_loss / len(val_dataloader)\n",
    "    val_accuracy.append(correct_val / total_val)\n",
    "    val_losses.append(epoch_val_loss)\n",
    "\n",
    "    # 모델 체크포인트 저장 (필요한 경우)\n",
    "    checkpoint = {\n",
    "        'epoch': epoch + 1,\n",
    "        'model_state_dict': model.state_dict(),\n",
    "        'optimizer_state_dict': optimizer.state_dict(),\n",
    "        'train_losses': train_losses,\n",
    "        'val_losses': val_losses,\n",
    "        'train_accuracy': train_accuracy,\n",
    "        'val_accuracy': val_accuracy\n",
    "    }\n",
    "    checkpoint_path = \"D:/Working_Directory/project_0912/model/checkpoint.pth\"\n",
    "    torch.save(checkpoint, checkpoint_path)\n",
    "\n",
    "    print(f'Epoch [{epoch+1}/{num_epochs}] - Train Loss: {epoch_train_loss:.4f} - Train Accuracy: {train_accuracy[-1]:.4f}')\n",
    "    print(f'Epoch [{epoch+1}/{num_epochs}] - Val Loss: {epoch_val_loss:.4f} - Val Accuracy: {val_accuracy[-1]:.4f}')\n",
    "    print('=' * 30)"
   ]
  },
  {
   "cell_type": "code",
   "execution_count": 22,
   "metadata": {
    "tags": []
   },
   "outputs": [
    {
     "name": "stdout",
     "output_type": "stream",
     "text": [
      "Final Test Accuracy: 0.9049\n"
     ]
    }
   ],
   "source": [
    "# 테스트 데이터셋을 사용하여 모델 최종 성능 평가\n",
    "model.eval()\n",
    "correct = 0\n",
    "total = 0\n",
    "with torch.no_grad():\n",
    "    for inputs, labels in test_dataloader:\n",
    "        inputs, labels = inputs.to(device), labels.to(device)\n",
    "        outputs = model(inputs)\n",
    "        _, predicted = torch.max(outputs.data, 1)\n",
    "        total += labels.size(0)\n",
    "        correct += (predicted == labels).sum().item()\n",
    "\n",
    "test_accuracy = correct / total\n",
    "print(f'Final Test Accuracy: {test_accuracy:.4f}')\n",
    "\n",
    "# mobilenet Model 저장\n",
    "torch.save(model.state_dict(), 'D:/Working_Directory/project_0912/model/mobilenet_model.pth')"
   ]
  },
  {
   "cell_type": "code",
   "execution_count": 23,
   "metadata": {
    "tags": []
   },
   "outputs": [
    {
     "data": {
      "image/png": "[encoded data removed]",
      "text/plain": [
       "<Figure size 1200x400 with 2 Axes>"
      ]
     },
     "metadata": {},
     "output_type": "display_data"
    }
   ],
   "source": [
    "# Loss와 Accuracy 그래프 시각화\n",
    "plt.figure(figsize=(12, 4))\n",
    "plt.subplot(1, 2, 1)\n",
    "plt.plot(train_losses, label='Train Loss')\n",
    "plt.plot(val_losses, label='Validation Loss')\n",
    "plt.xlabel('Epoch')\n",
    "plt.ylabel('Loss')\n",
    "plt.legend()\n",
    "\n",
    "plt.subplot(1, 2, 2)\n",
    "plt.plot(train_accuracy, label='Train Accuracy')\n",
    "plt.plot(val_accuracy, label='Validation Accuracy')\n",
    "plt.xlabel('Epoch')\n",
    "plt.ylabel('Accuracy')\n",
    "plt.legend()\n",
    "\n",
    "# 전체 그림의 제목\n",
    "plt.suptitle(\"MobileNet : Final Test Accuracy: 0.9049\", fontsize=16)\n",
    "plt.savefig(\"D:/Working_Directory/project_0912/data/MobileNet.png\")\n",
    "plt.show()"
   ]
  },
  {
   "cell_type": "code",
   "execution_count": null,
   "metadata": {},
   "outputs": [],
   "source": []
  }
 ],
 "metadata": {
  "kernelspec": {
   "display_name": "Python 3",
   "language": "python",
   "name": "python3"
  },
  "language_info": {
   "codemirror_mode": {
    "name": "ipython",
    "version": 3
   },
   "file_extension": ".py",
   "mimetype": "text/x-python",
   "name": "python",
   "nbconvert_exporter": "python",
   "pygments_lexer": "ipython3",
   "version": "3.7.6"
  }
 },
 "nbformat": 4,
 "nbformat_minor": 5
}
